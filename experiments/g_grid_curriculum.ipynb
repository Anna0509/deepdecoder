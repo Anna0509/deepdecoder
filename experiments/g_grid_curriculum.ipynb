{
 "cells": [
  {
   "cell_type": "code",
   "execution_count": null,
   "metadata": {
    "collapsed": false
   },
   "outputs": [],
   "source": [
    "%matplotlib inline\n",
    "\n",
    "\n",
    "from beras.data_utils import HDF5Tensor\n",
    "import matplotlib.pyplot as plt\n",
    "import numpy as np\n",
    "from deepdecoder.utils import masks, visualise_tiles, zip_visualise_tiles, np_binary_mask\n",
    "from deepdecoder.dcgan_train import generator, discriminator, dcmogan\n",
    "from deepdecoder.adaptive_sampling import curriculum_grids_generator, curriculum_grids\n",
    "from beesgrid import MASK, CONFIG_ROTS, CONFIG_RADIUS, CONFIG_CENTER, TAG_SIZE\n",
    "from keras.optimizers import SGD, Adam, RMSprop\n",
    "import importlib\n",
    "import h5py\n",
    "import pylab\n",
    "import time\n",
    "\n",
    "pylab.rcParams['figure.figsize'] = (18, 18)"
   ]
  },
  {
   "cell_type": "code",
   "execution_count": null,
   "metadata": {
    "collapsed": false,
    "scrolled": true
   },
   "outputs": [],
   "source": [
    "batch_size = 128\n",
    "def grid_generator(hardness, batch_size, input_dim=40):\n",
    "    while True:\n",
    "        params, grid_idx = curriculum_grids(hardness, batch_size)\n",
    "        bw_grid = np_binary_mask(grid_idx)\n",
    "        z = np.random.uniform(-1, 1, (params.shape[0], input_dim - params.shape[1]))\n",
    "        yield np.concatenate([params, z], axis=1), bw_grid\n",
    "        \n",
    "input_dim = 40\n",
    "params, grids = next(grid_generator(0.1, batch_size, input_dim))\n",
    "print(params.shape)\n",
    "assert params.shape[1] == input_dim"
   ]
  },
  {
   "cell_type": "code",
   "execution_count": null,
   "metadata": {
    "collapsed": false
   },
   "outputs": [],
   "source": [
    "g = generator(input_dim=40)"
   ]
  },
  {
   "cell_type": "code",
   "execution_count": null,
   "metadata": {
    "collapsed": false
   },
   "outputs": [],
   "source": [
    "start = time.time()\n",
    "g.compile(Adam(lr=0.003), 'mse')\n",
    "print(\"Compiling done in {}s\".format(time.time() - start))"
   ]
  },
  {
   "cell_type": "code",
   "execution_count": null,
   "metadata": {
    "collapsed": false
   },
   "outputs": [],
   "source": [
    "def visualise_g(h):\n",
    "    params, grids = next(grid_generator(h, batch_size))\n",
    "    pred_grids = g.predict(params)\n",
    "    zip_visualise_tiles(grids, pred_grids)"
   ]
  },
  {
   "cell_type": "code",
   "execution_count": null,
   "metadata": {
    "collapsed": false
   },
   "outputs": [],
   "source": [
    "h = 0.25\n",
    "g.fit_generator(grid_generator(h, batch_size), samples_per_epoch=100*batch_size, nb_epoch=10, verbose=1)\n",
    "visualise_g(h)"
   ]
  },
  {
   "cell_type": "code",
   "execution_count": null,
   "metadata": {
    "collapsed": false
   },
   "outputs": [],
   "source": [
    "h = 0.3\n",
    "g.fit_generator(grid_generator(h, batch_size), \n",
    "                samples_per_epoch=100*batch_size, \n",
    "                nb_epoch=10, verbose=1)\n",
    "visualise_g(h)"
   ]
  },
  {
   "cell_type": "code",
   "execution_count": null,
   "metadata": {
    "collapsed": false
   },
   "outputs": [],
   "source": [
    "h = 0.6\n",
    "g.fit_generator(grid_generator(h, batch_size), \n",
    "                samples_per_epoch=100*batch_size, \n",
    "                nb_epoch=1, verbose=1)\n",
    "visualise_g(h)"
   ]
  },
  {
   "cell_type": "code",
   "execution_count": null,
   "metadata": {
    "collapsed": false
   },
   "outputs": [],
   "source": [
    "h = 0.85\n",
    "g.fit_generator(grid_generator(h, batch_size), \n",
    "                samples_per_epoch=100*batch_size,\n",
    "                nb_epoch=1, verbose=1)\n",
    "visualise_g(h)"
   ]
  },
  {
   "cell_type": "code",
   "execution_count": null,
   "metadata": {
    "collapsed": false
   },
   "outputs": [],
   "source": [
    "h = 1.0\n",
    "g.fit_generator(grid_generator(h, batch_size),     \n",
    "                samples_per_epoch=100*batch_size, \n",
    "                nb_epoch=3*60, verbose=1)\n",
    "visualise_g(h)"
   ]
  },
  {
   "cell_type": "code",
   "execution_count": null,
   "metadata": {
    "collapsed": true
   },
   "outputs": [],
   "source": []
  },
  {
   "cell_type": "code",
   "execution_count": null,
   "metadata": {
    "collapsed": false
   },
   "outputs": [],
   "source": [
    "visualise_g(h)"
   ]
  },
  {
   "cell_type": "code",
   "execution_count": null,
   "metadata": {
    "collapsed": true
   },
   "outputs": [],
   "source": []
  }
 ],
 "metadata": {
  "kernelspec": {
   "display_name": "Python 3",
   "language": "python",
   "name": "python3"
  },
  "language_info": {
   "codemirror_mode": {
    "name": "ipython",
    "version": 3
   },
   "file_extension": ".py",
   "mimetype": "text/x-python",
   "name": "python",
   "nbconvert_exporter": "python",
   "pygments_lexer": "ipython3",
   "version": "3.5.0"
  }
 },
 "nbformat": 4,
 "nbformat_minor": 0
}
