{
 "cells": [
  {
   "cell_type": "code",
   "execution_count": null,
   "metadata": {
    "collapsed": false
   },
   "outputs": [],
   "source": [
    "%matplotlib inline\n",
    "\n",
    "\n",
    "from beras.data_utils import HDF5Tensor\n",
    "import matplotlib.pyplot as plt\n",
    "import numpy as np\n",
    "from deepdecoder.utils import visualise_tiles, zip_visualise_tiles, np_binary_mask\n",
    "from deepdecoder.mask_loss import pyramid_loss, to_keras_loss\n",
    "from deepdecoder.networks import dcgan_generator, dcgan_discriminator, dummy_dcgan_generator\n",
    "from deepdecoder.grid_curriculum import get_generator_and_callback, reduced_id_lecture, \\\n",
    "    z_rot_lecture, y_rot_lecture, x_rot_lecture, z_rot_lecture_around, AroundPoints\n",
    "from deepdecoder.data import normalize_generator\n",
    "from beesgrid import MASK, CONFIG_ROTS, CONFIG_RADIUS, CONFIG_CENTER, TAG_SIZE\n",
    "from keras.optimizers import SGD, Adam, RMSprop\n",
    "from keras.callbacks import Callback\n",
    "from keras.regularizers import l2\n",
    "import importlib\n",
    "import h5py\n",
    "import pylab\n",
    "import time\n",
    "\n",
    "pylab.rcParams['figure.figsize'] = (18, 18)"
   ]
  },
  {
   "cell_type": "code",
   "execution_count": null,
   "metadata": {
    "collapsed": false
   },
   "outputs": [],
   "source": [
    "curriculum = [\n",
    "    reduced_id_lecture(0.03) + z_rot_lecture_around(2),\n",
    "    reduced_id_lecture(0.15) + z_rot_lecture_around(4),\n",
    "    reduced_id_lecture(0.03) + x_rot_lecture(0.5) + z_rot_lecture_around(2) ,\n",
    "    reduced_id_lecture(0.03) + y_rot_lecture(0.5) + z_rot_lecture_around(2),\n",
    "    x_rot_lecture(0.5) + y_rot_lecture(0.5) + z_rot_lecture_around(2),\n",
    "    x_rot_lecture(0.5) + y_rot_lecture(0.5) + z_rot_lecture_around(4),\n",
    "    x_rot_lecture(1.) + y_rot_lecture(1.) + z_rot_lecture_around(8),\n",
    "    x_rot_lecture(1.) + y_rot_lecture(1.) + z_rot_lecture_around(16),\n",
    "    x_rot_lecture(1.) + y_rot_lecture(1.) + z_rot_lecture_around(360),\n",
    "    x_rot_lecture(1.) + y_rot_lecture(1.) + z_rot_lecture(1),\n",
    "]\n",
    "for c in curriculum:\n",
    "    c.pass_limit = 0.02"
   ]
  },
  {
   "cell_type": "code",
   "execution_count": null,
   "metadata": {
    "collapsed": true
   },
   "outputs": [],
   "source": [
    "batch_size = 128\n",
    "generator_input_dim = 50\n",
    "curriculum_grids_generator, curriculum_cb = get_generator_and_callback(curriculum, batch_size)"
   ]
  },
  {
   "cell_type": "code",
   "execution_count": null,
   "metadata": {
    "collapsed": false,
    "scrolled": true
   },
   "outputs": [],
   "source": [
    "def grid_generator(input_dim=50):\n",
    "    for params, grid_idx in normalize_generator(curriculum_grids_generator):\n",
    "        z = np.random.uniform(-1, 1, (params.shape[0], input_dim - params.shape[1]))\n",
    "        yield np.concatenate([params, z], axis=1), grid_idx\n",
    "        \n",
    "def listify(generator):\n",
    "    for input, labels in generator:\n",
    "        yield [input], labels"
   ]
  },
  {
   "cell_type": "code",
   "execution_count": null,
   "metadata": {
    "collapsed": false
   },
   "outputs": [],
   "source": [
    "params, grids = next(grid_generator(generator_input_dim))\n",
    "print(params.shape)\n",
    "assert params.shape[1] == generator_input_dim"
   ]
  },
  {
   "cell_type": "code",
   "execution_count": null,
   "metadata": {
    "collapsed": false
   },
   "outputs": [],
   "source": [
    "g = dcgan_generator(input_dim=generator_input_dim)"
   ]
  },
  {
   "cell_type": "code",
   "execution_count": null,
   "metadata": {
    "collapsed": true
   },
   "outputs": [],
   "source": [
    "\n",
    "# g = dummy_dcgan_generator(input_dim=40)"
   ]
  },
  {
   "cell_type": "code",
   "execution_count": null,
   "metadata": {
    "collapsed": false
   },
   "outputs": [],
   "source": [
    "start = time.time()\n",
    "g.compile(Adam(lr=0.003, clipvalue=0.5), to_keras_loss(pyramid_loss))\n",
    "print(\"Compiling done in {:.2f}s\".format(time.time() - start))"
   ]
  },
  {
   "cell_type": "code",
   "execution_count": null,
   "metadata": {
    "collapsed": false
   },
   "outputs": [],
   "source": [
    "def visualise_g():\n",
    "    params, grids_idx = next(grid_generator())\n",
    "    grids = np_binary_mask(grids_idx)\n",
    "    pred_grids = g.predict(params)\n",
    "    zip_visualise_tiles(grids, pred_grids)"
   ]
  },
  {
   "cell_type": "code",
   "execution_count": null,
   "metadata": {
    "collapsed": false,
    "scrolled": true
   },
   "outputs": [],
   "source": [
    "visualise_g()"
   ]
  },
  {
   "cell_type": "code",
   "execution_count": null,
   "metadata": {
    "collapsed": false,
    "scrolled": true
   },
   "outputs": [],
   "source": [
    "history = g.fit_generator(listify(grid_generator()), samples_per_epoch=100*batch_size, \n",
    "                          nb_epoch=10000, verbose=1, callbacks=[curriculum_cb], nb_worker=1)"
   ]
  },
  {
   "cell_type": "code",
   "execution_count": null,
   "metadata": {
    "collapsed": false
   },
   "outputs": [],
   "source": [
    "visualise_g()"
   ]
  },
  {
   "cell_type": "code",
   "execution_count": null,
   "metadata": {
    "collapsed": false
   },
   "outputs": [],
   "source": [
    "g.save_weights(\"generator_pyramdi_loss.hdf5\", overwrite=True)"
   ]
  },
  {
   "cell_type": "code",
   "execution_count": null,
   "metadata": {
    "collapsed": true
   },
   "outputs": [],
   "source": [
    "history = _14"
   ]
  },
  {
   "cell_type": "code",
   "execution_count": null,
   "metadata": {
    "collapsed": false
   },
   "outputs": [],
   "source": [
    "plt.plot(np.log(history.history['loss']))"
   ]
  },
  {
   "cell_type": "code",
   "execution_count": null,
   "metadata": {
    "collapsed": true
   },
   "outputs": [],
   "source": []
  }
 ],
 "metadata": {
  "kernelspec": {
   "display_name": "Python 3",
   "language": "python",
   "name": "python3"
  },
  "language_info": {
   "codemirror_mode": {
    "name": "ipython",
    "version": 3
   },
   "file_extension": ".py",
   "mimetype": "text/x-python",
   "name": "python",
   "nbconvert_exporter": "python",
   "pygments_lexer": "ipython3",
   "version": "3.5.1"
  }
 },
 "nbformat": 4,
 "nbformat_minor": 0
}
