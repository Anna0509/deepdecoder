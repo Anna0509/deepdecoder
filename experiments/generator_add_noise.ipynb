{
 "cells": [
  {
   "cell_type": "code",
   "execution_count": null,
   "metadata": {
    "collapsed": false,
    "scrolled": true
   },
   "outputs": [],
   "source": [
    "%matplotlib inline\n",
    "\n",
    "from beras.data_utils import HDF5Tensor\n",
    "import matplotlib.pyplot as plt\n",
    "import numpy as np\n",
    "from deepdecoder.utils import visualise_tiles, zip_visualise_tiles, np_binary_mask\n",
    "from deepdecoder.networks import dcgan_generator, dcgan_discriminator\n",
    "from deepdecoder.data import generate_grids\n",
    "from deepdecoder.model_utils import add_uniform_noise, plot_weights_histogram\n",
    "from deepdecoder.grid_curriculum import get_generator_and_callback, reduced_id_lecture, exam, \\\n",
    "    z_rot_lecture, y_rot_lecture, x_rot_lecture\n",
    "from deepdecoder.visualise import plt_hist\n",
    "from keras.optimizers import SGD, Adam, RMSprop\n",
    "from keras.callbacks import Callback\n",
    "import pylab\n",
    "import time\n",
    "\n",
    "pylab.rcParams['figure.figsize'] = (18, 18)\n",
    "import theano\n"
   ]
  },
  {
   "cell_type": "code",
   "execution_count": null,
   "metadata": {
    "collapsed": true
   },
   "outputs": [],
   "source": [
    "g = dcgan_generator(input_dim=50, nb_output_channels=1)"
   ]
  },
  {
   "cell_type": "code",
   "execution_count": null,
   "metadata": {
    "collapsed": false
   },
   "outputs": [],
   "source": [
    "weights_fname = \"generator_pyramdi_loss.hdf5\"\n",
    "g.load_weights(weights_fname)"
   ]
  },
  {
   "cell_type": "code",
   "execution_count": null,
   "metadata": {
    "collapsed": false
   },
   "outputs": [],
   "source": [
    "start = time.time()\n",
    "g.compile('adam', 'mse')\n",
    "print(\"Compiling done in {}s\".format(time.time() - start))"
   ]
  },
  {
   "cell_type": "code",
   "execution_count": null,
   "metadata": {
    "collapsed": false,
    "scrolled": true
   },
   "outputs": [],
   "source": [
    "def weights_histogram(model, bins=50):                                          \n",
    "    hists = []                                                                  \n",
    "    for i, layer in enumerate(model.layers):                                    \n",
    "        name = str(type(layer)) + \"_{}\".format(i)                               \n",
    "        weights = layer.get_weights()                                           \n",
    "        for wi, weight in enumerate(weights):                                   \n",
    "            plt_hist(weight, name)\n",
    "            plt.show()\n",
    "    return hists \n",
    "weights_histogram(g)"
   ]
  },
  {
   "cell_type": "code",
   "execution_count": null,
   "metadata": {
    "collapsed": false
   },
   "outputs": [],
   "source": [
    "dense = g.layers[0]\n",
    "weight = dense.get_weights()[0]\n",
    "print(weight.shape)\n",
    "n = 8\n",
    "plt.imshow(weight.reshape((50*n, 4096//n)))\n",
    "plt.colorbar()\n",
    "plt.show()"
   ]
  },
  {
   "cell_type": "code",
   "execution_count": null,
   "metadata": {
    "collapsed": false
   },
   "outputs": [],
   "source": [
    "def visualize():\n",
    "    generator = gen_diff_gan(128)\n",
    "    input_dim = 40\n",
    "    batch = next(generator)\n",
    "    params = batch.params\n",
    "    z = np.random.uniform(-1, 1, (params.shape[0], input_dim - params.shape[1]))\n",
    "    grids = g.predict(np.concatenate([params, z], axis=1).astype(np.float32))\n",
    "    zip_visualise_tiles(\n",
    "        batch.grid_bw,\n",
    "        grids[:, 0],\n",
    "        grids[:, 1]\n",
    "       )"
   ]
  },
  {
   "cell_type": "code",
   "execution_count": null,
   "metadata": {
    "collapsed": false
   },
   "outputs": [],
   "source": [
    "visualize()"
   ]
  },
  {
   "cell_type": "code",
   "execution_count": null,
   "metadata": {
    "collapsed": false
   },
   "outputs": [],
   "source": [
    "for std in (0.01, 0.03, 0.04, 0.05, 0.06, 0.07, 0.1):\n",
    "    g.load_weights(weights_fname)\n",
    "    print(std)\n",
    "    add_uniform_noise(g, std)\n",
    "    visualize()"
   ]
  },
  {
   "cell_type": "code",
   "execution_count": null,
   "metadata": {
    "collapsed": true
   },
   "outputs": [],
   "source": []
  }
 ],
 "metadata": {
  "kernelspec": {
   "display_name": "Python 3",
   "language": "python",
   "name": "python3"
  },
  "language_info": {
   "codemirror_mode": {
    "name": "ipython",
    "version": 3
   },
   "file_extension": ".py",
   "mimetype": "text/x-python",
   "name": "python",
   "nbconvert_exporter": "python",
   "pygments_lexer": "ipython3",
   "version": "3.5.1"
  }
 },
 "nbformat": 4,
 "nbformat_minor": 0
}
