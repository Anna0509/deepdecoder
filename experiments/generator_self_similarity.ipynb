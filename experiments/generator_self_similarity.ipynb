{
 "cells": [
  {
   "cell_type": "code",
   "execution_count": null,
   "metadata": {
    "collapsed": false
   },
   "outputs": [],
   "source": [
    "%matplotlib inline\n",
    "from deepdecoder.networks import dcgan_generator, dcgan_discriminator\n",
    "from beras.gan import GAN\n",
    "from beras.models import asgraph\n",
    "import matplotlib.pyplot as plt\n",
    "import numpy as np\n",
    "from deepdecoder.mask_loss import mask_loss, mask_loss_sobel, mask_loss_mse, mask_loss_adaptive_mse\n",
    "from deepdecoder.utils import binary_mask, visualise_tiles\n",
    "from deepdecoder.data import grids_lecture_generator, load_real_hdf5_tags\n",
    "from deepdecoder.visualise import plt_hist\n",
    "from beesgrid import MASK\n",
    "from keras.optimizers import SGD, Adam, RMSprop\n",
    "from keras.callbacks import Callback\n",
    "from keras.objectives import mse\n",
    "import seaborn as sns\n",
    "import matplotlib\n",
    "import time\n",
    "from itertools import count\n",
    "\n",
    "import pylab\n",
    "pylab.rcParams['figure.figsize'] = (18, 18)"
   ]
  },
  {
   "cell_type": "code",
   "execution_count": null,
   "metadata": {
    "collapsed": true
   },
   "outputs": [],
   "source": [
    "batch_size = 128\n",
    "n = 32\n",
    "generator_input_dim = 100\n",
    "num_batches_per_epoch = 100\n",
    "epoch_size = batch_size*num_batches_per_epoch\n",
    "z_shape = (batch_size, generator_input_dim)"
   ]
  },
  {
   "cell_type": "code",
   "execution_count": null,
   "metadata": {
    "collapsed": true
   },
   "outputs": [],
   "source": [
    "g = dcgan_generator(n, input_dim=generator_input_dim)"
   ]
  },
  {
   "cell_type": "code",
   "execution_count": null,
   "metadata": {
    "collapsed": true
   },
   "outputs": [],
   "source": [
    "def self_similarity(zs, imgs):\n",
    "    img_deltas = (imgs - imgs[::-1])**2\n",
    "    z_delta = (zs - zs[::-1])**2\n",
    "    return ((img_deltas.mean() - z_delta.mean())**2).mean()"
   ]
  },
  {
   "cell_type": "code",
   "execution_count": null,
   "metadata": {
    "collapsed": false
   },
   "outputs": [],
   "source": [
    "g.compile(Adam(lr=0.0001, beta_1=0.5), self_similarity)"
   ]
  },
  {
   "cell_type": "code",
   "execution_count": null,
   "metadata": {
    "collapsed": false
   },
   "outputs": [],
   "source": [
    "def z_vec():\n",
    "    return np.random.uniform(-1, 1, z_shape)\n",
    "    \n",
    "def z_generator():\n",
    "    while True:\n",
    "        z = z_vec()\n",
    "        yield [z], z.reshape(z_shape[0], 1, 1, z_shape[1])"
   ]
  },
  {
   "cell_type": "code",
   "execution_count": null,
   "metadata": {
    "collapsed": true
   },
   "outputs": [],
   "source": [
    "class Visualise(Callback):\n",
    "    def on_epoch_end(self, epoch, log={}):\n",
    "        plt.grid(False)\n",
    "        visualise_tiles(g.predict(z_vec()))"
   ]
  },
  {
   "cell_type": "code",
   "execution_count": null,
   "metadata": {
    "collapsed": false
   },
   "outputs": [],
   "source": [
    "g.fit_generator(z_generator(), samples_per_epoch=epoch_size, nb_epoch=10, verbose=1, callbacks=[Visualise()])"
   ]
  },
  {
   "cell_type": "code",
   "execution_count": null,
   "metadata": {
    "collapsed": true
   },
   "outputs": [],
   "source": []
  },
  {
   "cell_type": "code",
   "execution_count": null,
   "metadata": {
    "collapsed": true
   },
   "outputs": [],
   "source": []
  }
 ],
 "metadata": {
  "kernelspec": {
   "display_name": "Python 3",
   "language": "python",
   "name": "python3"
  },
  "language_info": {
   "codemirror_mode": {
    "name": "ipython",
    "version": 3
   },
   "file_extension": ".py",
   "mimetype": "text/x-python",
   "name": "python",
   "nbconvert_exporter": "python",
   "pygments_lexer": "ipython3",
   "version": "3.5.1"
  }
 },
 "nbformat": 4,
 "nbformat_minor": 0
}
