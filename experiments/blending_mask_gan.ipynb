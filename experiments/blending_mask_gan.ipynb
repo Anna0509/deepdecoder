{
 "cells": [
  {
   "cell_type": "code",
   "execution_count": null,
   "metadata": {
    "collapsed": false
   },
   "outputs": [],
   "source": [
    "%env THEANO_FLAGS=cuda.root=/opt/cuda,device=gpu,floatX=float32,allow_gc=True,lib.cnmem=0.1"
   ]
  },
  {
   "cell_type": "code",
   "execution_count": null,
   "metadata": {
    "collapsed": true
   },
   "outputs": [],
   "source": [
    "#,lib.cnmem=1"
   ]
  },
  {
   "cell_type": "code",
   "execution_count": null,
   "metadata": {
    "collapsed": false
   },
   "outputs": [],
   "source": [
    "%matplotlib inline\n",
    "from deepdecoder.networks import mask_blending_generator, get_mask_driver, get_lighting_generator, \\\n",
    "    get_offset_merge_mask, get_mask_weight_blending, get_offset_back, get_offset_front, \\\n",
    "    get_offset_middle, mask_generator, mask_blending_discriminator, get_mask_postprocess\n",
    "\n",
    "from deepdecoder.utils import zip_visualise_tiles, visualise_tiles\n",
    "from deepdecoder.data import normalize_generator, grids_lecture_generator, \\\n",
    "    load_real_hdf5_tags, z_generator, nb_normalized_params, real_generator, np_binary_mask, weight_pyramid\n",
    "from deepdecoder.mask_loss import to_keras_loss, pyramid_loss\n",
    "from deepdecoder.grid_curriculum import Lecture, Normal\n",
    "from beras.gan import GAN, gan_binary_crossentropy, gan_linear_losses, gan_outputs\n",
    "from beras.callbacks import VisualiseGAN, SaveModels\n",
    "from keras.models import Sequential, Graph\n",
    "from keras.layers.core import Dense, Layer\n",
    "from beras.transform import tile\n",
    "from keras.optimizers import Adam, SGD\n",
    "from beesgrid import NUM_MIDDLE_CELLS\n",
    "\n",
    "from keras.engine.topology import Input\n",
    "\n",
    "from skimage.transform import pyramid_reduce, pyramid_laplacian\n",
    "from skimage.filters import gaussian_filter\n",
    "from scipy.ndimage.interpolation import zoom\n",
    "\n",
    "import numpy as np\n",
    "import time\n",
    "import pylab\n",
    "import theano.tensor as T\n",
    "import os\n",
    "import matplotlib.pyplot as plt\n",
    "import sys \n",
    "\n",
    "print(sys.getrecursionlimit())\n",
    "sys.setrecursionlimit(10000)\n",
    "pylab.rcParams['figure.figsize'] = (16, 16)"
   ]
  },
  {
   "cell_type": "code",
   "execution_count": null,
   "metadata": {
    "collapsed": false
   },
   "outputs": [],
   "source": [
    "nb_fake = 32\n",
    "\n",
    "nb_real = 32 // 2\n",
    "offset_nb_units = 48\n",
    "dis_nb_units = 32\n",
    "lr = 0.00005\n",
    "beta_1 = 0.5\n",
    "nb_input_mask_generator = 19 - NUM_MIDDLE_CELLS\n",
    "z_dim_offset = 20\n",
    "z_dim_driver = 20\n",
    "z_dim_bits = 12\n",
    "z_dim = z_dim_offset + z_dim_driver + z_dim_bits"
   ]
  },
  {
   "cell_type": "code",
   "execution_count": null,
   "metadata": {
    "collapsed": false
   },
   "outputs": [],
   "source": [
    "g_mask = lambda x: mask_generator(x, nb_units=32, dense_factor=3, nb_dense_layers=2, trainable=False)\n",
    "g_mask_weights=\"../models/holy/mask_generator_n32_black_white//mask_generator.hdf5\""
   ]
  },
  {
   "cell_type": "code",
   "execution_count": null,
   "metadata": {
    "collapsed": false
   },
   "outputs": [],
   "source": [
    "d = lambda x: gan_outputs(mask_blending_discriminator(x, n=dis_nb_units), \n",
    "                         fake_for_gen=(0, nb_fake),\n",
    "                         fake_for_dis=(0, nb_fake - nb_real),\n",
    "                         real=(nb_fake, nb_fake + nb_real),\n",
    "                        )"
   ]
  },
  {
   "cell_type": "code",
   "execution_count": null,
   "metadata": {
    "collapsed": false
   },
   "outputs": [],
   "source": [
    "def merge16(namespace):\n",
    "    def call(x):\n",
    "        return get_offset_merge_mask(x, nb_units=offset_nb_units // 3, nb_conv_layers=2,\n",
    "                                     poolings=[True, True],\n",
    "                                     ns=namespace)\n",
    "    return call\n",
    "def merge32(namespace):\n",
    "    def call(x):\n",
    "        return get_offset_merge_mask(x, nb_units=offset_nb_units // 3, nb_conv_layers=2,\n",
    "                                     poolings=[True, False],\n",
    "                                     ns=namespace)\n",
    "    return call\n",
    "def merge(namespace):\n",
    "    return lambda x: get_offset_merge_mask(x, nb_units=offset_nb_units // 3, nb_conv_layers=2,\n",
    "                                     ns=namespace)"
   ]
  },
  {
   "cell_type": "code",
   "execution_count": null,
   "metadata": {
    "collapsed": false
   },
   "outputs": [],
   "source": [
    "g = mask_blending_generator(\n",
    "    mask_driver= lambda x: get_mask_driver(x, nb_units=offset_nb_units, nb_output_units=nb_input_mask_generator),                                                                                                                                  \n",
    "    mask_generator=g_mask,                                                         \n",
    "    light_merge_mask16=merge('light_merge16'),\n",
    "    offset_merge_light16=merge16('offset_merge_light16'),\n",
    "    offset_merge_mask16=merge('offset_merge16'),                                                    \n",
    "    offset_merge_mask32=merge('offset_merge32'),                                                    \n",
    "    lighting_generator=lambda x: get_lighting_generator(x, offset_nb_units // 2),                                                     \n",
    "    offset_front=lambda x: get_offset_front(x, offset_nb_units),\n",
    "    offset_middle=lambda x: get_offset_middle(x, offset_nb_units),\n",
    "    offset_back=lambda x: get_offset_back(x, offset_nb_units),\n",
    "    mask_weight_blending32=lambda x: get_mask_weight_blending(x, min=0.15),\n",
    "    mask_weight_blending64=get_mask_weight_blending,\n",
    "    mask_generator_weights=g_mask_weights,\n",
    "    mask_postprocess=lambda x: get_mask_postprocess(x, offset_nb_units // 3),\n",
    "    z_for_driver=(0, z_dim_driver),\n",
    "    z_for_offset=(z_dim_driver, z_dim_driver + z_dim_offset),\n",
    "    z_for_bits=(z_dim_driver + z_dim_offset, z_dim_driver + z_dim_offset + z_dim_bits))"
   ]
  },
  {
   "cell_type": "code",
   "execution_count": null,
   "metadata": {
    "collapsed": false,
    "scrolled": true
   },
   "outputs": [],
   "source": [
    "gan = GAN(g, d, z_shape=(z_dim,), real_shape=(1, 64, 64))\n",
    "gan.add_gan_regularizer(GAN.StopRegularizer(high=3.5))"
   ]
  },
  {
   "cell_type": "code",
   "execution_count": null,
   "metadata": {
    "collapsed": false
   },
   "outputs": [],
   "source": [
    "gan._gan_regularizers[0].high.set_value(100)"
   ]
  },
  {
   "cell_type": "code",
   "execution_count": null,
   "metadata": {
    "collapsed": false
   },
   "outputs": [],
   "source": [
    "g_optimizer = Adam(lr, beta_1)\n",
    "d_optimizer = Adam(lr, beta_1)\n",
    "gan.build(g_optimizer, d_optimizer, gan_binary_crossentropy)"
   ]
  },
  {
   "cell_type": "code",
   "execution_count": null,
   "metadata": {
    "collapsed": false,
    "scrolled": true
   },
   "outputs": [],
   "source": [
    "debug_keys = gan.debug_dict().keys()\n",
    "for k in sorted(gan.debug_dict().keys()):\n",
    "    print(k)"
   ]
  },
  {
   "cell_type": "code",
   "execution_count": null,
   "metadata": {
    "collapsed": false
   },
   "outputs": [],
   "source": [
    "print(\"Compiling...\")\n",
    "start = time.time()\n",
    "mask_gen_layer =  'mask_gen.22_activation'\n",
    "driver_layer = 'driver.10_linearinbounds'\n",
    "gen_out_layer = 'blending_post'\n",
    "light_layer = 'lighting.16_gaussianblur'\n",
    "post_layer = 'mask_post_high'\n",
    "debug_keys = ['selection', 'blending', 'addlight', gen_out_layer, driver_layer, mask_gen_layer,\n",
    "               'offset.back_out.01_linearinbounds', light_layer,  post_layer]\n",
    "gan.compile_debug(debug_keys)\n",
    "print(\"Done Compiling in {0:.2f}s\".format(time.time() - start))"
   ]
  },
  {
   "cell_type": "code",
   "execution_count": null,
   "metadata": {
    "collapsed": false
   },
   "outputs": [],
   "source": [
    "print(\"Compiling...\")                                                       \n",
    "start = time.time()      \n",
    "gan.compile()\n",
    "print(\"Done Compiling in {0:.2f}s\".format(time.time() - start))"
   ]
  },
  {
   "cell_type": "code",
   "execution_count": null,
   "metadata": {
    "collapsed": true
   },
   "outputs": [],
   "source": [
    "nb_visualise = 50\n",
    "sample_z = np.random.uniform(-1, 1, (nb_visualise, z_dim)).astype(np.float32)"
   ]
  },
  {
   "cell_type": "code",
   "execution_count": null,
   "metadata": {
    "collapsed": true
   },
   "outputs": [],
   "source": [
    "class VisualiseMasks(VisualiseGAN):\n",
    "    def __init__(self, inputs, **kwargs):\n",
    "        self.inputs = inputs\n",
    "        super().__init__(**kwargs)\n",
    "    def __call__(self):\n",
    "        self.inputs['z'] = self.z\n",
    "        outs = self.model.debug(self.inputs)\n",
    "        tiles = []\n",
    "        for mask, blending in zip(\n",
    "            self.preprocess(outs[mask_gen_layer]), \n",
    "            self.preprocess(outs[gen_out_layer])):\n",
    "            tiles.append(mask)\n",
    "            tiles.append(blending)\n",
    "        tiled = tile(tiles, columns_must_be_multiple_of=2)\n",
    "        plt.imshow(tiled[0], cmap='gray')\n",
    "        if self.show:\n",
    "            plt.show()"
   ]
  },
  {
   "cell_type": "code",
   "execution_count": null,
   "metadata": {
    "collapsed": false
   },
   "outputs": [],
   "source": [
    "vis = VisualiseMasks(nb_samples=nb_visualise, output_dir='visualise/', show=True, preprocess=lambda x: np.clip(x, -1, 1),\n",
    "                   inputs={'real': np.zeros((nb_visualise, 1, 64 ,64), dtype='float32')},\n",
    "                  )"
   ]
  },
  {
   "cell_type": "code",
   "execution_count": null,
   "metadata": {
    "collapsed": false
   },
   "outputs": [],
   "source": [
    "vis.model = gan\n",
    "vis.on_train_begin(0)"
   ]
  },
  {
   "cell_type": "code",
   "execution_count": null,
   "metadata": {
    "collapsed": false,
    "scrolled": true
   },
   "outputs": [],
   "source": [
    "vis()"
   ]
  },
  {
   "cell_type": "code",
   "execution_count": null,
   "metadata": {
    "collapsed": false
   },
   "outputs": [],
   "source": [
    "def generator(nb_real, nb_fake):\n",
    "    real_gen = real_generator(\"/home/leon/data/tags_plain_t6.hdf5\", nb_real)\n",
    "    for real in real_gen:\n",
    "        yield {\n",
    "            'real': 2*real - 1,\n",
    "            'z': np.random.uniform(-1, 1, (nb_fake, z_dim)).astype(np.float32)\n",
    "        }"
   ]
  },
  {
   "cell_type": "code",
   "execution_count": null,
   "metadata": {
    "collapsed": false
   },
   "outputs": [],
   "source": [
    "debug_in = next(generator(1, 48))"
   ]
  },
  {
   "cell_type": "code",
   "execution_count": null,
   "metadata": {
    "collapsed": false
   },
   "outputs": [],
   "source": [
    "out = gan.debug(debug_in)"
   ]
  },
  {
   "cell_type": "code",
   "execution_count": null,
   "metadata": {
    "collapsed": false,
    "scrolled": false
   },
   "outputs": [],
   "source": [
    "off = np.clip(out['offset.back_out.01_linearinbounds'], -1, 1)\n",
    "mask = 2 *np.clip(out['mask_gen.22_activation'], 0, 1) - 1\n",
    "\n",
    "\n",
    "blending = out['blending']\n",
    "gen_out = np.clip(out[gen_out_layer], -1, 1)\n",
    "\n",
    "light = out['addlighting_1']\n",
    "\n",
    "\n",
    "high_frq = np.clip(out[post_layer], -1, 1)\n",
    "selection = out['selection']\n",
    "\n",
    "pylab.rcParams['figure.figsize'] = (32, 32)\n",
    "zip_visualise_tiles(light, off, mask, selection, blending,  high_frq, gen_out)"
   ]
  },
  {
   "cell_type": "code",
   "execution_count": null,
   "metadata": {
    "collapsed": false
   },
   "outputs": [],
   "source": [
    "gen = generator(nb_real, nb_fake)"
   ]
  },
  {
   "cell_type": "code",
   "execution_count": null,
   "metadata": {
    "collapsed": false,
    "scrolled": false
   },
   "outputs": [],
   "source": [
    "visualise_tiles(next(generator(8*8, 0))['real'])"
   ]
  },
  {
   "cell_type": "code",
   "execution_count": null,
   "metadata": {
    "collapsed": false
   },
   "outputs": [],
   "source": [
    "g_optimizer.lr.set_value(np.cast[np.float32](lr))\n",
    "d_optimizer.lr.set_value(np.cast[np.float32](lr))"
   ]
  },
  {
   "cell_type": "code",
   "execution_count": null,
   "metadata": {
    "collapsed": false,
    "scrolled": false
   },
   "outputs": [],
   "source": [
    "hist = gan.fit_generator(gen, nb_batches_per_epoch=100, nb_epoch=500, batch_size=128, verbose=1, callbacks=[vis])"
   ]
  },
  {
   "cell_type": "code",
   "execution_count": null,
   "metadata": {
    "collapsed": false,
    "scrolled": true
   },
   "outputs": [],
   "source": [
    "hist = gan.fit_generator(gen, nb_batches_per_epoch=100, nb_epoch=500, batch_size=128, verbose=1, callbacks=[vis])"
   ]
  },
  {
   "cell_type": "code",
   "execution_count": null,
   "metadata": {
    "collapsed": false,
    "scrolled": true
   },
   "outputs": [],
   "source": [
    "hist = gan.fit_generator(gen, nb_batches_per_epoch=100, nb_epoch=250\n",
    "                         , batch_size=128, verbose=1, callbacks=[vis])   "
   ]
  },
  {
   "cell_type": "code",
   "execution_count": null,
   "metadata": {
    "collapsed": false,
    "scrolled": false
   },
   "outputs": [],
   "source": [
    "hist = gan.fit_generator(gen, nb_batches_per_epoch=100, nb_epoch=500, batch_size=128, verbose=1, callbacks=[vis])"
   ]
  },
  {
   "cell_type": "code",
   "execution_count": null,
   "metadata": {
    "collapsed": false
   },
   "outputs": [],
   "source": [
    "out = gan.debug(next(gen), train=True)"
   ]
  },
  {
   "cell_type": "code",
   "execution_count": null,
   "metadata": {
    "collapsed": false
   },
   "outputs": [],
   "source": [
    "def show(name, n=0):\n",
    "    plt.imshow(tile(out[name][n])[0], cmap='gray')\n",
    "    plt.colorbar()\n",
    "    plt.show()\n",
    "def show_batches(name):\n",
    "    plt.imshow(tile(out[name])[0], cmap='gray')\n",
    "    plt.colorbar()\n",
    "    plt.show()"
   ]
  },
  {
   "cell_type": "code",
   "execution_count": null,
   "metadata": {
    "collapsed": false,
    "scrolled": false
   },
   "outputs": [],
   "source": [
    "for n, arr in sorted(out.items()):\n",
    "    print(\"{}: {}\".format(n, arr.shape))"
   ]
  },
  {
   "cell_type": "code",
   "execution_count": null,
   "metadata": {
    "collapsed": true
   },
   "outputs": [],
   "source": [
    "selection_layer.threshold.set_value(-0.08)\n",
    "selection_layer.smooth_threshold.set_value(0.2)\n",
    "blend_layer.min_mask_blendings[-1].set_value(0)\n",
    "blend_layer.min_mask_blendings[-2].set_value(0)\n",
    "lighting_layer.shift_factor.set_value(1.)\n",
    "lighting_layer.scale_factor.set_value(0.75)\n",
    "blend_layer.use_blending.set_value(1)\n",
    "\n",
    "blend_layer.weights[0].set_value(0)\n",
    "blend_layer.weights[1].set_value(0)\n",
    "blend_layer.weights[2].set_value(1)\n"
   ]
  },
  {
   "cell_type": "code",
   "execution_count": null,
   "metadata": {
    "collapsed": false
   },
   "outputs": [],
   "source": [
    "debug_in = next(generator(1, 48))"
   ]
  },
  {
   "cell_type": "code",
   "execution_count": null,
   "metadata": {
    "collapsed": false,
    "scrolled": true
   },
   "outputs": [],
   "source": [
    "for l in gan.layers:\n",
    "    if l.name == 'pyramidblending_1':\n",
    "        blending = l\n",
    "    elif l.name.startswith('selection'):\n",
    "        selection = l\n",
    "    elif l.name.startswith('addligh'):\n",
    "        add_lighting = l"
   ]
  },
  {
   "cell_type": "code",
   "execution_count": null,
   "metadata": {
    "collapsed": true
   },
   "outputs": [],
   "source": [
    "add_lighting.shift_factor.set_value(1)\n",
    "add_lighting.scale_factor.set_value(0.7)"
   ]
  },
  {
   "cell_type": "code",
   "execution_count": null,
   "metadata": {
    "collapsed": true
   },
   "outputs": [],
   "source": [
    "selection.threshold.set_value(-0.08)\n",
    "selection.smooth_threshold.set_value(0.2)"
   ]
  },
  {
   "cell_type": "code",
   "execution_count": null,
   "metadata": {
    "collapsed": false
   },
   "outputs": [],
   "source": [
    "blending.mask_weights[0].set_value(1)"
   ]
  },
  {
   "cell_type": "code",
   "execution_count": null,
   "metadata": {
    "collapsed": false
   },
   "outputs": [],
   "source": [
    "[w.set_value(1) for w in blending.offset_weights]"
   ]
  },
  {
   "cell_type": "code",
   "execution_count": null,
   "metadata": {
    "collapsed": false
   },
   "outputs": [],
   "source": [
    "def print_bits(driver_out):\n",
    "    def symbol(bit):\n",
    "        if bit > 0:\n",
    "            return '.'\n",
    "        else:\n",
    "            return '#'\n",
    "        \n",
    "    for bit in driver_out[:12]:\n",
    "        print(symbol(bit), end='')\n",
    "    print()\n",
    "    for bit in driver_out[:12]:\n",
    "        print(\"{}   {}\".format(symbol(bit), bit))"
   ]
  },
  {
   "cell_type": "code",
   "execution_count": null,
   "metadata": {
    "collapsed": false
   },
   "outputs": [],
   "source": [
    "n = 10\n",
    "print_bits(out[driver_layer][n])"
   ]
  },
  {
   "cell_type": "code",
   "execution_count": null,
   "metadata": {
    "collapsed": true
   },
   "outputs": [],
   "source": []
  },
  {
   "cell_type": "code",
   "execution_count": null,
   "metadata": {
    "collapsed": false
   },
   "outputs": [],
   "source": [
    "out[driver_layer].mean(axis=0), out[driver_layer].std(axis=0)"
   ]
  },
  {
   "cell_type": "code",
   "execution_count": null,
   "metadata": {
    "collapsed": false
   },
   "outputs": [],
   "source": [
    "mask = 2 * zoom(np.clip(out['mask_gen.convolution2d_6'], 0, 1), (1, 1, 2, 2)) - 1\n",
    "\n",
    "\n",
    "gen_out = out['merge_6']\n",
    "\n",
    "pylab.rcParams['figure.figsize'] = (32, 32)\n",
    "print(len(gen_out))\n",
    "\n",
    "zip_visualise_tiles(mask, gen_out)"
   ]
  },
  {
   "cell_type": "code",
   "execution_count": null,
   "metadata": {
    "collapsed": false
   },
   "outputs": [],
   "source": [
    "for name, val in out.items():\n",
    "    if name.startswith('merge'):\n",
    "        if val.shape[1:] == (1, 64, 64):\n",
    "            print(name)\n",
    "            print(val.shape)"
   ]
  },
  {
   "cell_type": "code",
   "execution_count": null,
   "metadata": {
    "collapsed": false
   },
   "outputs": [],
   "source": [
    "out['driver.batchnormalization_3'][6]"
   ]
  },
  {
   "cell_type": "code",
   "execution_count": null,
   "metadata": {
    "collapsed": false
   },
   "outputs": [],
   "source": [
    "np.mean(out['driver.batchnormalization_3'], axis=0)"
   ]
  },
  {
   "cell_type": "code",
   "execution_count": null,
   "metadata": {
    "collapsed": false
   },
   "outputs": [],
   "source": [
    "np.std(out['driver.batchnormalization_3'], axis=0)"
   ]
  },
  {
   "cell_type": "code",
   "execution_count": null,
   "metadata": {
    "collapsed": false
   },
   "outputs": [],
   "source": [
    "show('mask_gen.convolution2d_6', 6)"
   ]
  },
  {
   "cell_type": "code",
   "execution_count": null,
   "metadata": {
    "collapsed": false
   },
   "outputs": [],
   "source": [
    "output_dir = '../models/blendgan_working_blending_should_be_improved_to_merge_32/'\n",
    "os.makedirs(output_dir, exist_ok=True)\n",
    "gan_graph.save_weights(output_dir + \"gan.hdf5\")"
   ]
  },
  {
   "cell_type": "code",
   "execution_count": null,
   "metadata": {
    "collapsed": true
   },
   "outputs": [],
   "source": [
    "with open(output_dir + \"gan.json\", \"w+\") as f:\n",
    "    f.write(gan_graph.to_json())"
   ]
  },
  {
   "cell_type": "code",
   "execution_count": null,
   "metadata": {
    "collapsed": true
   },
   "outputs": [],
   "source": []
  }
 ],
 "metadata": {
  "kernelspec": {
   "display_name": "Python 3",
   "language": "python",
   "name": "python3"
  },
  "language_info": {
   "codemirror_mode": {
    "name": "ipython",
    "version": 3
   },
   "file_extension": ".py",
   "mimetype": "text/x-python",
   "name": "python",
   "nbconvert_exporter": "python",
   "pygments_lexer": "ipython3",
   "version": "3.5.1"
  }
 },
 "nbformat": 4,
 "nbformat_minor": 0
}
