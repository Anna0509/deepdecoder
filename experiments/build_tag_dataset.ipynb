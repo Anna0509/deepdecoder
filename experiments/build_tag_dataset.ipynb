{
 "cells": [
  {
   "cell_type": "code",
   "execution_count": null,
   "metadata": {
    "collapsed": false
   },
   "outputs": [],
   "source": [
    "%matplotlib inline\n",
    "import localizer\n",
    "from localizer import models, keras_helpers, util, visualization\n",
    "from localizer.localizer import Localizer\n",
    "from localizer.util import scale_candidates, extract_rois, to_image_coordinates\n",
    "from localizer.visualization import plot_sample_images, plot_saliency_image\n",
    "import localizer.config\n",
    "import matplotlib.pyplot as plt\n",
    "from scipy.misc import imread\n",
    "from os.path import join\n",
    "import os\n",
    "from pylab import rcParams\n",
    "import h5py\n",
    "import keras\n",
    "import numpy as np\n",
    "from random import shuffle\n",
    "import json\n",
    "import time\n",
    "rcParams['figure.figsize'] = 15, 15"
   ]
  },
  {
   "cell_type": "code",
   "execution_count": null,
   "metadata": {
    "collapsed": false
   },
   "outputs": [],
   "source": [
    "beesbook_dir = \"/mnt/storage/beesbook\"\n",
    "beesbook_2015 =  join(beesbook_dir, \"season_2015_preprocces\")\n",
    "tag_pos_fname = join(beesbook_2015, \"tag_positions.json\")\n",
    "\n",
    "with open(join(beesbook_2015, \"images.txt\")) as f:\n",
    "    beesbook_images = [l.rstrip('\\n') for l in f.readlines()]\n",
    "    print(beesbook_images[0])\n",
    "    shuffle(beesbook_images)\n"
   ]
  },
  {
   "cell_type": "code",
   "execution_count": null,
   "metadata": {
    "collapsed": false
   },
   "outputs": [],
   "source": [
    "loc = Localizer()"
   ]
  },
  {
   "cell_type": "code",
   "execution_count": null,
   "metadata": {
    "collapsed": false
   },
   "outputs": [],
   "source": [
    "loc.load_weights(\"/home/leon/repos/saliency-localizer-models/season_2015\")"
   ]
  },
  {
   "cell_type": "code",
   "execution_count": null,
   "metadata": {
    "collapsed": false
   },
   "outputs": [],
   "source": [
    "loc.compile(image_shape=(4064, 3064))"
   ]
  },
  {
   "cell_type": "code",
   "execution_count": null,
   "metadata": {
    "collapsed": false
   },
   "outputs": [],
   "source": [
    "def save_json():\n",
    "    json_obj = {}\n",
    "    json_obj[\"time\"] = time.time()\n",
    "    json_obj[\"directory\"] = beesbook_2015\n",
    "    json_obj[\"threshold\"] = threshold\n",
    "    json_obj[\"positions\"] = positions\n",
    "    json_obj[\"sha1\"] = sha1s\n",
    "    with open(tag_pos_fname, \"w+\") as f:\n",
    "        json.dump(json_obj, f)\n",
    "        \n",
    "def sha1_of_file(filepath):\n",
    "    import hashlib\n",
    "    with open(filepath, 'rb') as f:\n",
    "        return hashlib.sha1(f.read()).hexdigest()"
   ]
  },
  {
   "cell_type": "code",
   "execution_count": null,
   "metadata": {
    "collapsed": false
   },
   "outputs": [],
   "source": [
    "progbar = keras.utils.generic_utils.Progbar(len(beesbook_images))\n",
    "threshold = 0.6\n",
    "positions = {}\n",
    "sha1s = {}\n",
    "\n",
    "try:\n",
    "    for i, imfname in enumerate(beesbook_images):\n",
    "        sha1s[imfname] = sha1_of_file(imfname)\n",
    "        _, candidates, _ = loc.detect_tags(imfname, threshold)\n",
    "        basename = os.path.basename(imfname)\n",
    "        positions[basename] = candidates.tolist()\n",
    "        progbar.add(1)\n",
    "        break\n",
    "finally:\n",
    "    pass\n",
    "    #save_json()"
   ]
  },
  {
   "cell_type": "code",
   "execution_count": null,
   "metadata": {
    "collapsed": false,
    "scrolled": true
   },
   "outputs": [],
   "source": [
    "def show(imfname, threshold):\n",
    "    saliencies, candidates, rois = loc.detect_tags(imfname, threshold)\n",
    "    plt.imshow(visualization.get_roi_overlay(candidates, imread(imfname) / 255.))\n",
    "    plt.show()\n",
    "    saliency, image = loc.get_saliency_image(imfname)\n",
    "    _ = plot_saliency_image(image, saliency, localizer.config.data_imsize)#, figsize=(32, 16))\n",
    "    plt.show()\n",
    "    \n",
    "for threshold in [0.5, 0.6, 0.75, 0.80, 0.85, 0.90, 0.95, 0.995]:\n",
    "    print(threshold)\n",
    "    cam1 = \"/home/ben/deeplocalizer_data/images/season_2015/cam1/Cam_1_20150911120849_847258_wb.jpeg\"\n",
    "    cam3 = \"/home/ben/deeplocalizer_data/images/season_2015/cam3/Cam_3_20150915235539_739596_wb.jpeg\"\n",
    "    show(cam1, threshold)\n",
    "    #show(cam3, threshold)\n",
    "    break"
   ]
  },
  {
   "cell_type": "code",
   "execution_count": null,
   "metadata": {
    "collapsed": false
   },
   "outputs": [],
   "source": [
    "_ = plt.imshow(visualization.get_roi_overlay(candidates, imread(imfile) / 255.))"
   ]
  },
  {
   "cell_type": "code",
   "execution_count": null,
   "metadata": {
    "collapsed": false
   },
   "outputs": [],
   "source": [
    "with open(tag_pos_fname) as f:\n",
    "    tag_positions = json.load(f)"
   ]
  },
  {
   "cell_type": "code",
   "execution_count": null,
   "metadata": {
    "collapsed": false
   },
   "outputs": [],
   "source": [
    "name, candidates = next(iter(tag_positions['positions'].items()))"
   ]
  },
  {
   "cell_type": "code",
   "execution_count": null,
   "metadata": {
    "collapsed": false
   },
   "outputs": [],
   "source": [
    "_ = plt.imshow(visualization.get_roi_overlay(np.array(candidates), imread(join(beesbook_2015, name)) / 255.))"
   ]
  },
  {
   "cell_type": "code",
   "execution_count": null,
   "metadata": {
    "collapsed": false
   },
   "outputs": [],
   "source": [
    "hdf5_file = join(beesbook_dir, \"season_2015_tags\", \"tags_plain_64x64.hdf5\")\n",
    "h5 = h5py.File(hdf5_file)\n",
    "nb_chunks = 1024\n",
    "roi_shape = (64, 64)\n",
    "image_dir = join(beesbook_dir, \"season_2015_images\")\n",
    "nb_candidates = sum([len(c) for c in tag_positions['positions'].values()])\n",
    "\n",
    "h5.create_dataset(\"tags\", shape=(nb_candidates, 1, roi_shape[0], roi_shape[1]), dtype='float32',\n",
    "                  chunks=(nb_chunks, 1, roi_shape[0], roi_shape[1]), compression='gzip')"
   ]
  },
  {
   "cell_type": "code",
   "execution_count": null,
   "metadata": {
    "collapsed": false
   },
   "outputs": [],
   "source": [
    "h5[\"tags\"].chunks"
   ]
  },
  {
   "cell_type": "code",
   "execution_count": null,
   "metadata": {
    "collapsed": false
   },
   "outputs": [],
   "source": [
    "h5_pos = 0\n",
    "def imfname(name):\n",
    "    return join(image_dir, name.rstrip(\"_wb.jpeg\") + \".jpeg\")\n",
    "def write_to_h5(rois_batch, h5, pos):\n",
    "    rois = np.concatenate(rois_batch)\n",
    "    h5_end = pos + len(rois)\n",
    "    h5[\"tags\"][pos:h5_end] = rois[np.random.permutation(len(rois))]\n",
    "    h5.flush()\n",
    "    return h5_end\n",
    "    \n",
    "rois_batch = []\n",
    "progbar = keras.utils.generic_utils.Progbar(len(tag_positions[\"positions\"]))\n",
    "nb_batches = 96\n",
    "for i, (name, candidates) in enumerate(tag_positions['positions'].items()):\n",
    "    try:\n",
    "        image = imread(imfname(name))\n",
    "    except OSError as e:\n",
    "        print(e)\n",
    "        continue\n",
    "    rois = extract_rois(candidates, image, roi_shape, border=-32)\n",
    "    rois_batch.append(rois)\n",
    "    if len(rois_batch) > nb_batches:\n",
    "        h5_pos = write_to_h5(rois_batch, h5, h5_pos)\n",
    "        rois_batch = []\n",
    "    progbar.update(i)\n",
    "        \n",
    "write_to_h5(rois_batch, h5, h5_pos)\n"
   ]
  },
  {
   "cell_type": "code",
   "execution_count": null,
   "metadata": {
    "collapsed": false
   },
   "outputs": [],
   "source": [
    "imgs = h5[\"tags\"][:64]\n",
    "_ = plot_sample_images(imgs, np.zeros((len(imgs), 1)))"
   ]
  },
  {
   "cell_type": "code",
   "execution_count": null,
   "metadata": {
    "collapsed": false
   },
   "outputs": [],
   "source": [
    "plt.scatter(positions[:n, 0], positions[:n, 1], alpha=0.1)"
   ]
  },
  {
   "cell_type": "code",
   "execution_count": null,
   "metadata": {
    "collapsed": true
   },
   "outputs": [],
   "source": []
  }
 ],
 "metadata": {
  "kernelspec": {
   "display_name": "Python 3",
   "language": "python",
   "name": "python3"
  },
  "language_info": {
   "codemirror_mode": {
    "name": "ipython",
    "version": 3
   },
   "file_extension": ".py",
   "mimetype": "text/x-python",
   "name": "python",
   "nbconvert_exporter": "python",
   "pygments_lexer": "ipython3",
   "version": "3.5.1"
  }
 },
 "nbformat": 4,
 "nbformat_minor": 0
}
