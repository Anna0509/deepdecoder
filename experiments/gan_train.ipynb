{
 "cells": [
  {
   "cell_type": "code",
   "execution_count": null,
   "metadata": {
    "collapsed": false
   },
   "outputs": [],
   "source": [
    "%matplotlib inline\n",
    "%pylab inline\n",
    "from beras.gan import GAN\n",
    "from beras.models import AbstractModel\n",
    "from beras.util import upsample, downsample, blur\n",
    "import cairosvg\n",
    "from deepdecoder.generate_grids import BlackWhiteArtist, MASK, MASK_BLACK, \\\n",
    "    MASK_WHITE, GridGenerator, MaskGridArtist\n",
    "import deepdecoder.generate_grids as gen_grids\n",
    "\n",
    "import h5py\n",
    "import itertools\n",
    "import keras\n",
    "import keras.initializations\n",
    "from keras.models import Sequential, Graph\n",
    "from keras.layers.core import Dense, Dropout, Activation, Flatten, Reshape, Layer\n",
    "from keras.layers.convolutional import Convolution2D, MaxPooling2D, UpSample2D\n",
    "\n",
    "import os.path\n",
    "\n",
    "import base64\n",
    "\n",
    "import os\n",
    "import xml.etree.ElementTree as et\n",
    "import io\n",
    "import scipy.misc\n",
    "from deepdecoder import NUM_CELLS\n",
    "import sys\n",
    "from keras.optimizers import SGD, Adam, Adadelta\n",
    "from scipy.misc import imsave\n",
    "import numpy as np\n",
    "from theano.ifelse import ifelse\n",
    "import theano\n",
    "import theano.tensor as T\n",
    "import theano.tensor.shared_randomstreams as T_random\n",
    "import time\n",
    "import math\n",
    "import matplotlib.pyplot as plt\n",
    "from beras.layers.attention import RotationTransformer\n",
    "from mask_loss import mask_loss \n",
    "from gan_train import *\n",
    "\n",
    "pylab.rcParams['figure.figsize'] = (12, 6)\n",
    "floatX = theano.config.floatX\n",
    "\n",
    "batch_size = 128"
   ]
  },
  {
   "cell_type": "code",
   "execution_count": null,
   "metadata": {
    "collapsed": false
   },
   "outputs": [],
   "source": [
    "gan = MaskGAN(get_gan_dense_model())\n",
    "weight_dir = \"/home/leon/repos/keras_models/lapgan/models/gan_dense_and_mask_night_11_19_enforce\"\n",
    "if os.path.exists(weight_dir):\n",
    "    print(\"Loading weights from: \" + weight_dir)\n",
    "    # gan.load(weight_dir)"
   ]
  },
  {
   "cell_type": "code",
   "execution_count": null,
   "metadata": {
    "collapsed": true
   },
   "outputs": [],
   "source": [
    "X = tags_from_hdf5(\"/home/leon/repos/deeplocalizer_data/data/lapgan/lapgan.txt\")\n",
    "X = X[:(len(X)//64)*64]"
   ]
  },
  {
   "cell_type": "code",
   "execution_count": null,
   "metadata": {
    "collapsed": false
   },
   "outputs": [],
   "source": [
    "def optimizer(name):\n",
    "    if name in [\"g\", \"inv\", \"d\"]:\n",
    "        return SGD()\n",
    "    else:\n",
    "        return Adam()\n",
    "             \n",
    "print(\"Compiling...\")\n",
    "start = time.time()\n",
    "gan.compile(optimizer, functions=[\"debug\", \"train_gan_mask\"], \n",
    "            gan_regularizer=lambda: GANL2Regularizer(low=1.18, high=1.3))\n",
    "print(\"Done Compiling in {0:.2f}s\".format(time.time() - start))"
   ]
  },
  {
   "cell_type": "code",
   "execution_count": null,
   "metadata": {
    "collapsed": false
   },
   "outputs": [],
   "source": [
    "try:\n",
    "    for i, (masks_idx, mask_bits, mask_grids) in \\\n",
    "        enumerate(itertools.islice(masks(len(X), scales=[1]), 250)):\n",
    "            \n",
    "        print(i)\n",
    "        gan.fit([X, masks_idx], direct_indexing=[False, True], verbose=1, nb_epoch=1, train_mode='gan_mask')\n",
    "finally:\n",
    "    weight_dir = \"models/gan_dense_and_mask_night_11_19_base_sgd\"\n",
    "    gan.save(weight_dir)\n",
    "    print(\"Save network to {}\".format(weight_dir))"
   ]
  },
  {
   "cell_type": "code",
   "execution_count": null,
   "metadata": {
    "collapsed": true
   },
   "outputs": [],
   "source": [
    "weight_dir = \"models/gan_dense_decoder_day_11_13_bad\"\n",
    "gan.save_weights(weight_dir + \"/{}.hdf5\")\n",
    "with open(weight_dir + \"/g.json\", \"w\") as f:\n",
    "    f.write(gan.gan.G.to_json())\n",
    "with open(weight_dir + \"/d.json\", \"w\") as f:\n",
    "    f.write(gan.gan.D.to_json())\n",
    "with open(weight_dir + \"/decoder.json\", \"w\") as f:\n",
    "    f.write(gan.decoder.to_json())"
   ]
  },
  {
   "cell_type": "code",
   "execution_count": null,
   "metadata": {
    "collapsed": true
   },
   "outputs": [],
   "source": [
    "import random\n",
    "import operator\n",
    "def draw_debug(mask_idx, mask_bits, outs, b=None):\n",
    "    def bits_to_str(bits):\n",
    "        s = \"\"\n",
    "        for k in range(len(bits)):\n",
    "            if bits[k] > 0.5:\n",
    "                s += \" \"\n",
    "            else:\n",
    "                s += \"#\"\n",
    "        return s\n",
    "                      \n",
    "    if b is None:\n",
    "        b = random.randint(0, 63)\n",
    "    i = 1\n",
    "    print(b)\n",
    "    n_plots = 7\n",
    "    loss_img = np.zeros_like(mask_idx)\n",
    "    for name, arr in sorted(outs.items(), key=operator.itemgetter(0)):\n",
    "        if name == \"d_out\":\n",
    "            print(\"fake: {0:.5f}\".format(float(arr[b])))\n",
    "            print(\"real: {0:.5f}\".format(float(arr[b + batch_size // 2])))\n",
    "        elif name == \"mask_loss_per_sample\":\n",
    "            print(\"mask_loss: {0:.5f}\".format(float(arr[b])))\n",
    "        elif name == \"cell_losses\": \n",
    "            for j, key in enumerate(MASK_BLACK + MASK_WHITE):\n",
    "                idx = mask_idx == MASK[key]\n",
    "                # loss_img[idx] = arr[j, b]\n",
    "        elif name in [\"image\", \"mask_bw\", \"real\", \"decoder_rotation\"]:\n",
    "            plt.subplot(1, n_plots, i)\n",
    "            i += 1\n",
    "            plt.imshow(arr[b, 0], cmap='gray')           \n",
    "            plt.colorbar(fraction=0.046, pad=0.04)\n",
    "            plt.title(name)\n",
    "        elif name in [\"black_white_loss\", \"ring_loss\"]:\n",
    "            print(\"{}: {}\".format(name, arr[b]))\n",
    "        elif name == \"predicted_labels\":\n",
    "            pass\n",
    "            #print(\"predicted: \" + bits_to_str(arr[b]))\n",
    "            #print(\"true:      \" + bits_to_str(mask_bits[b]))\n",
    "        elif name == \"g_invert_out\":\n",
    "            plt.subplot(1, n_plots, i)\n",
    "            print(arr.shape)\n",
    "            arr = arr.reshape(64, 2, 32, 32)\n",
    "            i += 1\n",
    "            plt.imshow(arr[b, 0], cmap='gray')           \n",
    "            plt.colorbar(fraction=0.046, pad=0.04)\n",
    "            plt.title(name + \"_bw\")\n",
    "            plt.subplot(1, n_plots, i)\n",
    "            i += 1\n",
    "            plt.imshow(arr[b, 1], cmap='gray')           \n",
    "            plt.colorbar(fraction=0.046, pad=0.04)\n",
    "            plt.title(name + \"_bg\")\n",
    "            \n",
    "    #plt.subplot(1, n_plots, i)    \n",
    "    #plt.imshow(loss_img[b, 0], cmap='Reds')           \n",
    "    #plt.colorbar(fraction=0.046, pad=0.04)\n",
    "\n",
    "    plt.show()"
   ]
  },
  {
   "cell_type": "code",
   "execution_count": null,
   "metadata": {
    "collapsed": true
   },
   "outputs": [],
   "source": [
    "mask_idx, mask_idx_small, mask_bits, _ = next(masks(1, scales=[1., 0.5]))"
   ]
  },
  {
   "cell_type": "code",
   "execution_count": null,
   "metadata": {
    "collapsed": true
   },
   "outputs": [],
   "source": [
    "b = 1024\n",
    "def debug(gan, X, mask_idx, mask_idx_small):\n",
    "    outs = gan._debug(X, mask_idx)\n",
    "    return dict(zip(gan.debug_labels, outs))\n",
    "\n",
    "real = X[b:b+64*6:6]\n",
    "outs1 = debug(gan, real, mask_idx, mask_idx_small)\n",
    "outs2 = debug(gan, real, np.ones_like(mask_idx)*MASK[\"IGNORE\"], mask_idx_small)"
   ]
  },
  {
   "cell_type": "code",
   "execution_count": null,
   "metadata": {
    "collapsed": false
   },
   "outputs": [],
   "source": [
    "for i in range(64):\n",
    "    #if outs[\"d_out\"][i][0] > 0.5:\n",
    "    draw_debug(mask_idx, mask_bits, outs1, i)"
   ]
  },
  {
   "cell_type": "code",
   "execution_count": null,
   "metadata": {
    "collapsed": true
   },
   "outputs": [],
   "source": [
    "mi = T.tensor4()\n",
    "img = T.tensor4()\n",
    "t_m_loss = theano.function([mi, img], mask_loss(mi, img))"
   ]
  },
  {
   "cell_type": "code",
   "execution_count": null,
   "metadata": {
    "collapsed": true
   },
   "outputs": [],
   "source": [
    "for layer in gan.gan.G.nodes.values():\n",
    "    if hasattr(layer, 'params'):\n",
    "        layer.build()\n",
    "for layer in gan.gan.D.layers:\n",
    "    if hasattr(layer, 'params'):\n",
    "        layer.build()"
   ]
  },
  {
   "cell_type": "code",
   "execution_count": null,
   "metadata": {
    "collapsed": true
   },
   "outputs": [],
   "source": [
    "t_m_loss(mask_idx, outs[\"image\"])"
   ]
  },
  {
   "cell_type": "code",
   "execution_count": null,
   "metadata": {
    "collapsed": true
   },
   "outputs": [],
   "source": [
    "loss_sum = 0\n",
    "\n",
    "\n",
    "for b in range(64):\n",
    "    loss = t_m_loss(mask_idx[b:b+1], outs[\"image\"][b:b+1])\n",
    "    print(\"{}: {}\".format(b, loss))\n",
    "    loss_sum += loss[0]\n",
    "print(loss_sum / 64.)"
   ]
  },
  {
   "cell_type": "code",
   "execution_count": null,
   "metadata": {
    "collapsed": false
   },
   "outputs": [],
   "source": [
    "bwb_mask = bw_background_mask(theano.shared(mask_idx)).eval()\n",
    "b = 34\n",
    "name = \"bwb_mask\"\n",
    "plt.imshow(bwb_mask[b, 0], cmap='gray')           \n",
    "plt.title(name + \"_bg\") \n",
    "plt.show()\n",
    "plt.imshow(bwb_mask[b, 1], cmap='gray')           \n",
    "plt.title(name + \"_bg\")\n",
    "plt.show()"
   ]
  },
  {
   "cell_type": "code",
   "execution_count": null,
   "metadata": {
    "collapsed": true
   },
   "outputs": [],
   "source": [
    "for i in range(len(outs[\"d_out\"])):\n",
    "    print(\"{}: {}\".format(i, outs[\"d_out\"][i][0]))"
   ]
  },
  {
   "cell_type": "code",
   "execution_count": null,
   "metadata": {
    "collapsed": true
   },
   "outputs": [],
   "source": [
    "for p in gan.gan.G.params:\n",
    "    x = np.asarray(p.get_value())\n",
    "    print(x[:])"
   ]
  },
  {
   "cell_type": "code",
   "execution_count": null,
   "metadata": {
    "collapsed": true
   },
   "outputs": [],
   "source": [
    "output_dir = \"models/gan_dense_trained_#443/\"\n",
    "os.makedirs(output_dir, exist_ok=True)\n",
    "gan.gan.save_weights(output_dir + \"{}.hdf5\")"
   ]
  },
  {
   "cell_type": "code",
   "execution_count": null,
   "metadata": {
    "collapsed": true
   },
   "outputs": [],
   "source": [
    "gan_load = MaskGAN()\n",
    "gan_load.gan.load_weights(output_dir + \"{}.hdf5\")"
   ]
  },
  {
   "cell_type": "code",
   "execution_count": null,
   "metadata": {
    "collapsed": true
   },
   "outputs": [],
   "source": [
    "gan_load.compile(lambda: SGD(), functions=[\"train\", \"debug\"])"
   ]
  },
  {
   "cell_type": "code",
   "execution_count": null,
   "metadata": {
    "collapsed": true
   },
   "outputs": [],
   "source": [
    "b = 512\n",
    "\n",
    "mask_idx = next(masks(1))\n",
    "outs = gan_load.debug(X[b:b+64], mask_idx)\n",
    "print(outs.keys())"
   ]
  },
  {
   "cell_type": "code",
   "execution_count": null,
   "metadata": {
    "collapsed": true
   },
   "outputs": [],
   "source": [
    "m = theano.shared(mask_idx)\n",
    "idx = T.gt(m, MASK[\"IGNORE\"])\n",
    "s = T.sum(idx, axis=[1, 2, 3]).eval()\n",
    "print(s)\n",
    "print(idx.shape.eval())\n",
    "print(s / 64)"
   ]
  },
  {
   "cell_type": "code",
   "execution_count": null,
   "metadata": {
    "collapsed": true
   },
   "outputs": [],
   "source": [
    "x = np.ones((4, 1, 3, 3))\n",
    "x[1] *= 2\n",
    "T.mean(x, axis=[1, 2, 3]).eval()"
   ]
  },
  {
   "cell_type": "code",
   "execution_count": null,
   "metadata": {
    "collapsed": true
   },
   "outputs": [],
   "source": [
    "158621 / (64)"
   ]
  },
  {
   "cell_type": "code",
   "execution_count": null,
   "metadata": {
    "collapsed": true
   },
   "outputs": [],
   "source": []
  }
 ],
 "metadata": {
  "kernelspec": {
   "display_name": "Python 3",
   "language": "python",
   "name": "python3"
  },
  "language_info": {
   "codemirror_mode": {
    "name": "ipython",
    "version": 3
   },
   "file_extension": ".py",
   "mimetype": "text/x-python",
   "name": "python",
   "nbconvert_exporter": "python",
   "pygments_lexer": "ipython3",
   "version": "3.5.1"
  }
 },
 "nbformat": 4,
 "nbformat_minor": 0
}
