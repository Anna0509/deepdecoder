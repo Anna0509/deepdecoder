{
 "cells": [
  {
   "cell_type": "code",
   "execution_count": null,
   "metadata": {
    "collapsed": false
   },
   "outputs": [],
   "source": [
    "%matplotlib inline\n",
    "from deepdecoder.networks import dcgan_generator, dcgan_discriminator\n",
    "from beras.util import tile, smooth\n",
    "from beras.gan import sequential_to_gan, gan_binary_crossentropy, gan_linear_losses\n",
    "from beras.models import asgraph\n",
    "import matplotlib.pyplot as plt\n",
    "import numpy as np  \n",
    "from deepdecoder.mask_loss import mask_loss, mask_loss_sobel, mask_loss_mse, mask_loss_adaptive_mse\n",
    "from deepdecoder.utils import binary_mask\n",
    "from deepdecoder.data import grids_lecture_generator, load_real_hdf5_tags\n",
    "from deepdecoder.visualise import plt_hist\n",
    "from beesgrid import MASK\n",
    "from keras.optimizers import SGD, Adam, RMSprop\n",
    "from keras.callbacks import Callback\n",
    "from keras.layers.normalization import BatchNormalization\n",
    "from keras.models import Graph\n",
    "from keras.initializations import normal\n",
    "import seaborn as sns\n",
    "import matplotlib\n",
    "import time\n",
    "from itertools import count\n",
    "from more_itertools import take\n",
    "from skimage.filters import gaussian_filter\n",
    "\n",
    "import pylab\n",
    "pylab.rcParams['figure.figsize'] = (18, 18)"
   ]
  },
  {
   "cell_type": "code",
   "execution_count": null,
   "metadata": {
    "collapsed": false
   },
   "outputs": [],
   "source": [
    "n = 32\n",
    "generatr_input_dim = 100\n",
    "num_batches_per_epoch = 1\n",
    "\n",
    "nb_fake = 96\n",
    "nb_real = 36\n",
    "batch_size = nb_fake + nb_real\n",
    "z_shape = (nb_fake, generatr_input_dim)"
   ]
  },
  {
   "cell_type": "code",
   "execution_count": null,
   "metadata": {
    "collapsed": true
   },
   "outputs": [],
   "source": [
    "def normal_002(shape):\n",
    "    return normal(shape, scale=0.02)"
   ]
  },
  {
   "cell_type": "code",
   "execution_count": null,
   "metadata": {
    "collapsed": false
   },
   "outputs": [],
   "source": [
    "g = dcgan_generator(n, input_dim=generatr_input_dim, init=normal_002)\n",
    "d = dcgan_discriminator(n//2, image_views=d_image_views)\n",
    "gan = sequential_to_gan(g, d, nb_real=nb_real, nb_fake=nb_fake)\n",
    "\n",
    "# gan.load_weights(\"lapgan/models/dcgan_g64_d32/{}.hdf5\")"
   ]
  },
  {
   "cell_type": "code",
   "execution_count": null,
   "metadata": {
    "collapsed": false,
    "scrolled": true
   },
   "outputs": [],
   "source": [
    "tags = load_real_hdf5_tags('/home/leon/data/tags_plain_t6_o36.hdf5',\n",
    "                           nb_fake,  num_batches_per_epoch)\n",
    "nb_tags = len(tags)\n",
    "print(nb_tags)\n",
    "mean_image = (tags[0:1248] / 255).mean(axis=0)"
   ]
  },
  {
   "cell_type": "code",
   "execution_count": null,
   "metadata": {
    "collapsed": false
   },
   "outputs": [],
   "source": [
    "def plot_mean_image(mean_image):                                                                                                                                                               \n",
    "    fig = plt.figure()                                                                                         \n",
    "    ax = fig.gca()                                                                                             \n",
    "    ax.set_xticks(np.arange(0, 64, 8))                                                                         \n",
    "    ax.set_yticks(np.arange(0, 64, 8))                                                                         \n",
    "    plt.grid(True)                                                                                             \n",
    "    plt.imshow(mean_image, cmap='gray')                                                                        \n",
    "    plt.colorbar()   \n",
    "    plt.show()\n",
    "    \n",
    "plot_mean_image(mean_image[0])\n",
    "\n",
    "print(mean_image.shape)\n",
    "im = mean_image[0].copy()\n",
    "t = 3\n",
    "im[t:, t:] = mean_image[0, :-t, :-t]\n",
    "\n",
    "plot_mean_image(im)"
   ]
  },
  {
   "cell_type": "code",
   "execution_count": null,
   "metadata": {
    "collapsed": false
   },
   "outputs": [],
   "source": [
    "def visualise_tiles(images):\n",
    "    tiled_fakes = tile(images)\n",
    "    plt.imshow(tiled_fakes[0], cmap='gray')\n",
    "    plt.grid(False)\n",
    "    plt.show()\n",
    "def should_visualise(i):\n",
    "    return i % 50 == 0 or \\\n",
    "        (i < 1000 and i % 20 == 0) or \\\n",
    "        (i < 100 and i % 5 == 0) or \\\n",
    "        i < 15\n",
    "s = np.tanh(1)\n",
    "def tags_generator():\n",
    "    tag_bs = nb_fake\n",
    "    for i in count(step=tag_bs):\n",
    "        ti = i % nb_tags\n",
    "        tag_batch = tags[ti:ti+tag_bs] / 255 - mean_image\n",
    "        #imgs = 2*s*tag_batch-s\n",
    "        #reals = [gaussian_filter(img, sigma=2) for img in tag_batch]\n",
    "        z = np.random.uniform(-1, 1, z_shape)\n",
    "        inputs = {'real': tag_batch, 'z': z}#np.stack(reals)}\n",
    "        yield inputs\n",
    "    \n",
    "class VisualiseCb(Callback):\n",
    "    #def on_batch_end(self, batch, log={}):\n",
    "    #    visualise_tiles(gan.generate())\n",
    "    def on_epoch_end(self, epoch, log={}):\n",
    "        if should_visualise(epoch):\n",
    "            fake = gan.generate(z_shape=(128, generatr_input_dim))\n",
    "            print(fake.shape)\n",
    "            visualise_tiles(fake)"
   ]
  },
  {
   "cell_type": "code",
   "execution_count": null,
   "metadata": {
    "collapsed": false,
    "scrolled": true
   },
   "outputs": [],
   "source": [
    "generator = tags_generator()\n",
    "print(next(generator)['real'].max())\n",
    "print(next(generator)['real'].min())\n",
    "#visualise_tiles(smooth(next(generator)['real'], sigma=2.5).eval())\n",
    "#visualise_tiles(next(generator)['real'])"
   ]
  },
  {
   "cell_type": "code",
   "execution_count": null,
   "metadata": {
    "collapsed": false,
    "scrolled": true
   },
   "outputs": [],
   "source": [
    "print(\"Compiling...\")\n",
    "start = time.time()\n",
    "optimizer = lambda lr: Adam(lr=lr, beta_1=0.5)\n",
    "gan.compile(Adam(lr=0.0002, beta_1=0.5), Adam(lr=0.0002, beta_1=0.5), gan_binary_crossentropy)\n",
    "print(\"Done Compiling in {0:.2f}s\".format(time.time() - start))"
   ]
  },
  {
   "cell_type": "code",
   "execution_count": null,
   "metadata": {
    "collapsed": false
   },
   "outputs": [],
   "source": [
    "VisualiseCb().on_epoch_end(0)"
   ]
  },
  {
   "cell_type": "code",
   "execution_count": null,
   "metadata": {
    "collapsed": true
   },
   "outputs": [],
   "source": [
    "gan.compile_debug()"
   ]
  },
  {
   "cell_type": "code",
   "execution_count": null,
   "metadata": {
    "collapsed": false,
    "scrolled": true
   },
   "outputs": [],
   "source": [
    "def display_debug(i=0, prefix=\"gen\"):\n",
    "    out = gan.debug(next(tags_generator()))\n",
    "    for name, arr in sorted(out.items()):\n",
    "        if not name.startswith(prefix):\n",
    "            continue\n",
    "        plt.title(name)\n",
    "        plt.grid(False)\n",
    "        if arr.ndim == 4:\n",
    "            t = tile(arr[i])\n",
    "            plt.imshow(t[0], cmap='gray')\n",
    "        else:\n",
    "            continue\n",
    "            print(arr.shape)\n",
    "            last = arr.shape[-1]\n",
    "            plt.imshow(arr[i].r, cmap='gray')\n",
    "        plt.colorbar()\n",
    "        plt.show()"
   ]
  },
  {
   "cell_type": "code",
   "execution_count": null,
   "metadata": {
    "collapsed": false,
    "scrolled": true
   },
   "outputs": [],
   "source": [
    "display_debug(1, \"dis\")"
   ]
  },
  {
   "cell_type": "code",
   "execution_count": null,
   "metadata": {
    "collapsed": false,
    "scrolled": true
   },
   "outputs": [],
   "source": [
    "display_debug(1, \"gen\")"
   ]
  },
  {
   "cell_type": "code",
   "execution_count": null,
   "metadata": {
    "collapsed": false,
    "scrolled": true
   },
   "outputs": [],
   "source": [
    "bns = [l for l in g.layers if type(l) is BatchNormalization]\n",
    "for i, bn in enumerate(bns):\n",
    "    beta = bn.beta.get_value()\n",
    "    gamma = bn.gamma.get_value()\n",
    "    #bn.gamma.set_value(np.random.uniform(-1, 1, gamma.shape).astype(np.float32))\n",
    "    print(bn.running_std.get_value())\n",
    "    print(beta.shape)\n",
    "    print(gamma.shape)"
   ]
  },
  {
   "cell_type": "code",
   "execution_count": null,
   "metadata": {
    "collapsed": false,
    "scrolled": true
   },
   "outputs": [],
   "source": [
    "gan.fit_generator(tags_generator(), nb_batches_per_epoch=50, \n",
    "                  nb_epoch=300, verbose=1, callbacks=[VisualiseCb()])"
   ]
  },
  {
   "cell_type": "code",
   "execution_count": null,
   "metadata": {
    "collapsed": false,
    "scrolled": false
   },
   "outputs": [],
   "source": [
    "display_debug(0, \"gen\")"
   ]
  },
  {
   "cell_type": "code",
   "execution_count": null,
   "metadata": {
    "collapsed": true
   },
   "outputs": [],
   "source": [
    "def weights_histogram(model, bins=50):                                          \n",
    "    hists = []                                                                  \n",
    "    for i, layer in enumerate(model.layers):                                    \n",
    "        name = str(type(layer)   ) + \"_{}\".format(i)                               \n",
    "        weights = layer.get_weights()                                           \n",
    "        for wi, weight in enumerate(weights):                                   \n",
    "            plt_hist(weight, name)\n",
    "            plt.show()\n",
    "    return hists \n",
    "weights_histogram(g)"
   ]
  },
  {
   "cell_type": "code",
   "execution_count": null,
   "metadata": {
    "collapsed": false
   },
   "outputs": [],
   "source": [
    "dense = g.layers[0]\n",
    "weight = dense.get_weights()[0]\n",
    "print(weight.shape)\n",
    "n = 8\n",
    "colorplate = sns.cubehelix_palette()\n",
    "#cmap = matplotlib.colors.ListedColormap(colorplate)\n",
    "cmap = matplotlib.colors.ListedColormap(sns.hls_palette(256, .33, .85, .6))\n",
    "plt.imshow(weight.reshape((100*n, 4096//n)), cmap=cmap)\n",
    "plt.colorbar()\n",
    "plt.show()"
   ]
  },
  {
   "cell_type": "code",
   "execution_count": null,
   "metadata": {
    "collapsed": false
   },
   "outputs": [],
   "source": [
    "g.layers"
   ]
  },
  {
   "cell_type": "code",
   "execution_count": null,
   "metadata": {
    "collapsed": false
   },
   "outputs": [],
   "source": [
    "visualise_tiles(g.layers[3].params[0].get_value())"
   ]
  },
  {
   "cell_type": "code",
   "execution_count": null,
   "metadata": {
    "collapsed": false,
    "scrolled": true
   },
   "outputs": [],
   "source": [
    "import numpy as np\n",
    "arr = np.arange(len(X))\n",
    "np.random.shuffle(arr)\n",
    "visualise_tiles(X[arr[:128]])"
   ]
  },
  {
   "cell_type": "code",
   "execution_count": null,
   "metadata": {
    "collapsed": false,
    "scrolled": true
   },
   "outputs": [],
   "source": [
    "shp = gan.z_shape[1:]\n",
    "z_point = lambda: np.random.uniform(-1, 1, shp)\n",
    "for i in range(2):\n",
    "    out = gan.interpolate(z_point(), z_point())\n",
    "    visualise_tiles(out)"
   ]
  },
  {
   "cell_type": "code",
   "execution_count": null,
   "metadata": {
    "collapsed": false
   },
   "outputs": [],
   "source": [
    "print(\"Compiling...\")\n",
    "start = time.time()\n",
    "loss_fn = lambda t, p: mask_loss_adaptive_mse(t, p).loss\n",
    "gan.compile_optimize_image(Adam(), loss_fn)\n",
    "print(\"Done Compiling in {0:.2f}s\".format(time.time() - start))"
   ]
  },
  {
   "cell_type": "code",
   "execution_count": null,
   "metadata": {
    "collapsed": false,
    "scrolled": true
   },
   "outputs": [],
   "source": [
    "if 'opt_z' not in globals():\n",
    "    opt_z = np.random.uniform(-1, 1, gan.z_shape)\n",
    "duration = 0\n",
    "for i in range(20):\n",
    "    zip_visualise_tiles(bw_mask(masks_idx), gan.generate(opt_z))\n",
    "    iterations = 256\n",
    "    start = time.time()\n",
    "    opt_images, opt_z = gan.optimize_image(masks_idx, iterations, z_start=opt_z, verbose=1)\n",
    "    duration += time.time() - start\n",
    "    if i % 5:\n",
    "        zip_visualise_tiles(bw_mask(masks_idx), opt_images)\n",
    "        jjjjj\n",
    "zip_visualise_tiles(bw_mask(masks_idx), opt_images)\n",
    "\n",
    "print(\"Done Optimizing in {0:.2f}s\".format(duration))"
   ]
  },
  {
   "cell_type": "code",
   "execution_count": null,
   "metadata": {
    "collapsed": false,
    "scrolled": true
   },
   "outputs": [],
   "source": [
    "z = np.zeros(gan.z_shape, dtype=np.float32)\n",
    "z[0] = gan.random_z_point()\n",
    "for i in range(1, len(z), 2):\n",
    "    z[i] = gan.random_z_point()\n",
    "    z[i+1] = np.max(z[0] + 0.5 * np.ones(z[0].shape)\n",
    "    z[i] = np.clip(z[i], -1, 1)\n",
    "visualise_tiles(gan.generate(z))"
   ]
  },
  {
   "cell_type": "code",
   "execution_count": null,
   "metadata": {
    "collapsed": false,
    "scrolled": true
   },
   "outputs": [],
   "source": [
    "for _ in range(10):\n",
    "    visualise_tiles(gan.neighborhood(opt_z[5], std=0.30))"
   ]
  },
  {
   "cell_type": "code",
   "execution_count": null,
   "metadata": {
    "collapsed": false
   },
   "outputs": [],
   "source": [
    "z_point = opt_z[0]\n",
    "for i in range(50):\n",
    "    print(i)\n",
    "    z_min = np.copy(z_point)\n",
    "    z_max = np.copy(z_point)\n",
    "    z_min[i] = -1\n",
    "    z_max[i] = 1\n",
    "    visualise_tiles(gan.interpolate(z_min, z_max))"
   ]
  },
  {
   "cell_type": "code",
   "execution_count": null,
   "metadata": {
    "collapsed": false
   },
   "outputs": [],
   "source": [
    "print(len(masks_idx))\n",
    "print(len(opt_images))"
   ]
  },
  {
   "cell_type": "code",
   "execution_count": null,
   "metadata": {
    "collapsed": true
   },
   "outputs": [],
   "source": []
  }
 ],
 "metadata": {
  "kernelspec": {
   "display_name": "Python 3",
   "language": "python",
   "name": "python3"
  },
  "language_info": {
   "codemirror_mode": {
    "name": "ipython",
    "version": 3
   },
   "file_extension": ".py",
   "mimetype": "text/x-python",
   "name": "python",
   "nbconvert_exporter": "python",
   "pygments_lexer": "ipython3",
   "version": "3.5.1"
  }
 },
 "nbformat": 4,
 "nbformat_minor": 0
}
