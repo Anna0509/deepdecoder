{
 "cells": [
  {
   "cell_type": "code",
   "execution_count": null,
   "metadata": {
    "collapsed": false
   },
   "outputs": [],
   "source": [
    "%matplotlib inline\n",
    "\n",
    "\n",
    "from beras.data_utils import HDF5Tensor\n",
    "import matplotlib.pyplot as plt\n",
    "import numpy as np\n",
    "from beras.gan import GAN\n",
    "from deepdecoder.utils import visualise_tiles, zip_visualise_tiles, np_binary_mask\n",
    "from deepdecoder.networks import dcgan_generator, dcgan_discriminator, diff_gan\n",
    "from deepdecoder.data import gen_diff_gan\n",
    "from deepdecoder.model_utils import add_uniform_noise, plot_weights_histogram\n",
    "from deepdecoder.grid_curriculum import get_generator_and_callback, reduced_id_lecture, exam, \\\n",
    "    z_rot_lecture, y_rot_lecture, x_rot_lecture\n",
    "from keras.optimizers import SGD, Adam, RMSprop\n",
    "from keras.callbacks import Callback\n",
    "import pylab\n",
    "import time\n",
    "import h5py\n",
    "pylab.rcParams['figure.figsize'] = (18, 18)\n",
    "import theano\n"
   ]
  },
  {
   "cell_type": "code",
   "execution_count": null,
   "metadata": {
    "collapsed": true
   },
   "outputs": [],
   "source": [
    "g = dcgan_generator(input_dim=40)"
   ]
  },
  {
   "cell_type": "code",
   "execution_count": null,
   "metadata": {
    "collapsed": false
   },
   "outputs": [],
   "source": [
    "g.load_weights('g_z025_13_01.hdf5')\n",
    "add_uniform_noise(g, 0.04)"
   ]
  },
  {
   "cell_type": "code",
   "execution_count": null,
   "metadata": {
    "collapsed": false
   },
   "outputs": [],
   "source": [
    "discriminator = dcgan_discriminator()\n",
    "nb_z = 19\n",
    "gan = diff_gan(g, discriminator, nb_z=nb_z)\n",
    "optimizer = lambda: Adam(lr=0.0002, beta_1=0.5)\n",
    "start = time.time()\n",
    "gan.compile(optimizer(), optimizer(), gan_regulizer=GAN.L2Regularizer)\n",
    "print(\"Done Compiling in {0:.2f}s\".format(time.time() - start))"
   ]
  },
  {
   "cell_type": "code",
   "execution_count": null,
   "metadata": {
    "collapsed": false
   },
   "outputs": [],
   "source": [
    "tags_fname = '/home/leon/data/tags.hdf5'\n",
    "h5 = h5py.File(tags_fname, 'r')\n",
    "batch_size = gan.batch_size\n",
    "epoch_size = 50*batch_size\n",
    "nb_tags = h5['tags'].shape[0]\n",
    "nb_tags = (nb_tags // epoch_size)*epoch_size\n",
    "tags = HDF5Tensor(tags_fname, 'tags', 0, nb_tags)\n",
    "assert len(tags) % epoch_size == 0"
   ]
  },
  {
   "cell_type": "code",
   "execution_count": null,
   "metadata": {
    "collapsed": false
   },
   "outputs": [],
   "source": [
    "generator = gen_diff_gan(epoch_size, outputs=('grid_idx'))"
   ]
  },
  {
   "cell_type": "code",
   "execution_count": null,
   "metadata": {
    "collapsed": true
   },
   "outputs": [],
   "source": [
    "def get_conds(batch):\n",
    "    return {'grid_idx': batch.grid_idx,\n",
    "             'z_rot90': batch.z_bins,\n",
    "             'grid_params': batch.params}"
   ]
  },
  {
   "cell_type": "code",
   "execution_count": null,
   "metadata": {
    "collapsed": false
   },
   "outputs": [],
   "source": [
    "def draw_diff_gan():\n",
    "    batch = next(gen_diff_gan(batch_size, outputs=('grid_idx', 'grid_bw')))\n",
    "    outs = gan.debug(tags[0:batch_size], conditionals=get_conds(batch))\n",
    "    zip_visualise_tiles(outs.real, outs.g_out, outs.fake, batch.grid_bw)"
   ]
  },
  {
   "cell_type": "code",
   "execution_count": null,
   "metadata": {
    "collapsed": false,
    "scrolled": true
   },
   "outputs": [],
   "source": [
    "draw_diff_gan()\n",
    "for i in range(200):\n",
    "    print(i)\n",
    "    ti = (i*epoch_size) % nb_tags\n",
    "    batch = next(generator)\n",
    "    gan.fit(tags[ti:ti+epoch_size], \n",
    "            get_conds(batch),\n",
    "            nb_epoch=1, verbose=1)\n",
    "    if i % 15 == 0 or i < 10 or (i < 30 and i % 3 == 0): \n",
    "        draw_diff_gan()"
   ]
  },
  {
   "cell_type": "code",
   "execution_count": null,
   "metadata": {
    "collapsed": true
   },
   "outputs": [],
   "source": []
  }
 ],
 "metadata": {
  "kernelspec": {
   "display_name": "Python 3",
   "language": "python",
   "name": "python3"
  },
  "language_info": {
   "codemirror_mode": {
    "name": "ipython",
    "version": 3
   },
   "file_extension": ".py",
   "mimetype": "text/x-python",
   "name": "python",
   "nbconvert_exporter": "python",
   "pygments_lexer": "ipython3",
   "version": "3.5.1"
  }
 },
 "nbformat": 4,
 "nbformat_minor": 0
}
