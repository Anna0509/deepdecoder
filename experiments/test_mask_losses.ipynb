{
 "cells": [
  {
   "cell_type": "code",
   "execution_count": null,
   "metadata": {
    "collapsed": true
   },
   "outputs": [],
   "source": [
    "%matplotlib inline\n",
    "\n",
    "from beras.gan import GAN, upsample\n",
    "from beras.models import AbstractModel\n",
    "from beras.util import downsample, blur\n",
    "import cairosvg\n",
    "from beesgrid.generate_grids import BlackWhiteArtist, MASK, MASK_BLACK, \\\n",
    "    MASK_WHITE, GridGenerator, MaskGridArtist\n",
    "import beesgrid.generate_grids as gen_grids\n",
    "import h5py\n",
    "import itertools\n",
    "import keras\n",
    "import keras.initializations\n",
    "from keras.models import Sequential, Graph\n",
    "from keras.layers.core import Dense, Dropout, Activation, Flatten, Reshape, Layer\n",
    "from keras.layers.convolutional import Convolution2D, MaxPooling2D, UpSample2D\n",
    "\n",
    "import os.path\n",
    "\n",
    "import base64\n",
    "\n",
    "import os\n",
    "import xml.etree.ElementTree as et\n",
    "import io\n",
    "import scipy.misc\n",
    "from beesgrid import NUM_CELLS\n",
    "import sys\n",
    "from keras.optimizers import SGD, Adam\n",
    "from scipy.misc import imsave\n",
    "import numpy as np\n",
    "from theano.ifelse import ifelse\n",
    "import theano\n",
    "import theano.tensor as T\n",
    "import theano.tensor.shared_randomstreams as T_random\n",
    "\n",
    "import time\n",
    "import math\n",
    "import matplotlib.pyplot as plt\n",
    "from beras.layers.attention import RotationTransformer\n",
    "\n",
    "floatX = theano.config.floatX"
   ]
  },
  {
   "cell_type": "code",
   "execution_count": null,
   "metadata": {
    "collapsed": false
   },
   "outputs": [],
   "source": [
    "bs = 64\n",
    "x = T.arange(9*bs).reshape((bs, 1, 3, 3))\n",
    "\n",
    "idx = T.zeros_like(x)\n",
    "idx = T.set_subtensor(idx[:, :, :, 1], T.ones((bs, 1, 3)))\n",
    "ns = [idx[i:i+1].nonzero() for i in range(bs)]\n",
    "print(ns[0][1])\n",
    "T.stack([x[n].var() for n in ns]).eval()"
   ]
  },
  {
   "cell_type": "code",
   "execution_count": null,
   "metadata": {
    "collapsed": true
   },
   "outputs": [],
   "source": [
    "def mask_loss(mask_image, image):\n",
    "    axis = [1, 2, 3]\n",
    "\n",
    "    def get_subtensor_var(image, mean, idx):\n",
    "        mean = T.patternbroadcast(mean.reshape((-1, 1, 1, 1)), [False, True, True, True])\n",
    "        tmp_image = T.zeros_like(image)\n",
    "        tmp_image = T.set_subtensor(tmp_image[idx.nonzero()], image[idx.nonzero()])\n",
    "        return get_subtensor_mean((tmp_image - mean)**2, idx)\n",
    "\n",
    "    def get_subtensor_sum(image, idx):\n",
    "        tmp_image = T.zeros_like(image)\n",
    "        tmp_image = T.set_subtensor(tmp_image[idx.nonzero()], image[idx.nonzero()])\n",
    "        return T.sum(tmp_image, axis)\n",
    "\n",
    "    def get_subtensor_mean(image, idx):\n",
    "        return get_subtensor_sum(image, idx) / T.sum(idx, axis)\n",
    "\n",
    "    white_mean = get_subtensor_mean(image, mask_image > MASK[\"IGNORE\"])\n",
    "    black_mean = get_subtensor_mean(image, mask_image < MASK[\"IGNORE\"])\n",
    "    min_distance = 0.25 * T.ones_like(black_mean)\n",
    "    distance = T.minimum(white_mean - black_mean, min_distance)\n",
    "    loss = (distance - min_distance)**2\n",
    "    cell_loss = T.zeros_like(loss)\n",
    "\n",
    "    def cell_loss_fn(mask_color, color_mean):\n",
    "        cell_idx = T.eq(mask_image, MASK[mask_color])\n",
    "        cell_mean = get_subtensor_mean(image, cell_idx)\n",
    "        cell_weight = T.sum(cell_idx, axis)\n",
    "        return T.switch(T.isnan(cell_mean),\n",
    "                         T.zeros_like(black_mean),\n",
    "                         cell_weight * (\n",
    "                             (color_mean - cell_mean)**2 +\n",
    "                             7*get_subtensor_var(image, color_mean, cell_idx)\n",
    "                         ))\n",
    "    for black_parts in MASK_BLACK:\n",
    "        cell_loss += cell_loss_fn(black_parts, black_mean)\n",
    "    for white_parts in MASK_WHITE:\n",
    "        cell_loss += cell_loss_fn(white_parts, white_mean)\n",
    "\n",
    "    cell_loss /= T.sum(T.neq(mask_image, MASK[\"IGNORE\"]))\n",
    "    loss += 2*cell_loss\n",
    "    return 50*T.mean(loss), 50*loss"
   ]
  },
  {
   "cell_type": "code",
   "execution_count": null,
   "metadata": {
    "collapsed": true
   },
   "outputs": [],
   "source": [
    "batch_size = 128\n",
    "def mask_loss_new(mask_image, image):\n",
    "    axis = [1, 2, 3]\n",
    "    batch_half = batch_size // 2\n",
    "    \n",
    "    def channel_nonzeros(idx):\n",
    "        return [idx[i:i+1].nonzero() for i in range(batch_half)]\n",
    "    def get_subtensor_var(image, nz_idx):\n",
    "        return T.stack([image[nz].var() for nz in nz_idx])\n",
    "    def get_subtensor_sum(image, nz_idx):\n",
    "        return T.stack([image[nz].sum() for nz in nz_idx])\n",
    "    def get_subtensor_mean(image, nz_idx):\n",
    "        return T.stack([image[nz].mean() for nz in nz_idx])\n",
    "\n",
    "    white_mean = get_subtensor_mean(image, \n",
    "                                    channel_nonzeros(mask_image > MASK[\"IGNORE\"]))\n",
    "    black_mean = get_subtensor_mean(image, \n",
    "                                    channel_nonzeros(mask_image < MASK[\"IGNORE\"]))\n",
    "    min_distance = 0.25 * T.ones_like(black_mean)\n",
    "    distance = T.minimum(white_mean - black_mean, min_distance)\n",
    "    loss = (distance - min_distance)**2\n",
    "    cell_loss = T.zeros_like(loss)\n",
    "\n",
    "    def cell_loss_fn(mask_color, color_mean):\n",
    "        cell_idx = T.eq(mask_image, MASK[mask_color])\n",
    "        cell_nonzeros = channel_nonzeros(cell_idx)\n",
    "        cell_mean = get_subtensor_mean(image, cell_nonzeros)\n",
    "        cell_weight = T.sum(cell_idx, axis)\n",
    "        return T.switch(T.isnan(cell_mean),\n",
    "                         T.zeros_like(black_mean),\n",
    "                         cell_weight * (\n",
    "                             (color_mean - cell_mean)**2 +\n",
    "                             7*get_subtensor_var(image, cell_nonzeros)\n",
    "                         ))\n",
    "    for black_parts in MASK_BLACK:\n",
    "        cell_loss += cell_loss_fn(black_parts, black_mean)\n",
    "    for white_parts in MASK_WHITE:\n",
    "        cell_loss += cell_loss_fn(white_parts, white_mean)\n",
    "\n",
    "    cell_loss /= T.sum(T.neq(mask_image, MASK[\"IGNORE\"]))\n",
    "    loss += 2*cell_loss\n",
    "    return 50*T.mean(loss), 50*loss"
   ]
  },
  {
   "cell_type": "code",
   "execution_count": null,
   "metadata": {
    "collapsed": true
   },
   "outputs": [],
   "source": [
    "m = T.tensor4()\n",
    "img = T.tensor4()"
   ]
  },
  {
   "cell_type": "code",
   "execution_count": null,
   "metadata": {
    "collapsed": false
   },
   "outputs": [],
   "source": [
    "%time new_loss = theano.function([m, img], mask_loss_new(m, img))"
   ]
  },
  {
   "cell_type": "code",
   "execution_count": null,
   "metadata": {
    "collapsed": true
   },
   "outputs": [],
   "source": [
    "%time old_loss = theano.function([m, img], mask_loss(m, img))"
   ]
  },
  {
   "cell_type": "code",
   "execution_count": null,
   "metadata": {
    "collapsed": true
   },
   "outputs": [],
   "source": [
    "def masks(batch_size):\n",
    "    batch_size += 64 - (batch_size % 64)\n",
    "    generator = GridGenerator()\n",
    "    artist = MaskGridArtist()\n",
    "    for masks in gen_grids.batches(batch_size, generator, artist=artist,\n",
    "                                   scales=[1.]):\n",
    "        yield masks[0].astype(floatX)\n",
    "\n",
    "mask_idx = next(masks(1))\n",
    "images = np.random.sample((64, 1, 64, 64)).astype(floatX)"
   ]
  },
  {
   "cell_type": "code",
   "execution_count": null,
   "metadata": {
    "collapsed": false
   },
   "outputs": [],
   "source": [
    "%timeit old_loss(mask_idx, images)"
   ]
  },
  {
   "cell_type": "code",
   "execution_count": null,
   "metadata": {
    "collapsed": false
   },
   "outputs": [],
   "source": [
    "%timeit new_loss(mask_idx, images)"
   ]
  },
  {
   "cell_type": "code",
   "execution_count": null,
   "metadata": {
    "collapsed": true
   },
   "outputs": [],
   "source": []
  }
 ],
 "metadata": {
  "kernelspec": {
   "display_name": "Python 3",
   "language": "python",
   "name": "python3"
  },
  "language_info": {
   "codemirror_mode": {
    "name": "ipython",
    "version": 3
   },
   "file_extension": ".py",
   "mimetype": "text/x-python",
   "name": "python",
   "nbconvert_exporter": "python",
   "pygments_lexer": "ipython3",
   "version": "3.5.0"
  }
 },
 "nbformat": 4,
 "nbformat_minor": 0
}
