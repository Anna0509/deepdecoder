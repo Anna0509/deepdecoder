{
 "cells": [
  {
   "cell_type": "code",
   "execution_count": null,
   "metadata": {
    "collapsed": false
   },
   "outputs": [],
   "source": [
    "%matplotlib inline\n",
    "from sympy import *\n",
    "import sympy\n",
    "from sympy.plotting import plot\n",
    "import seaborn\n",
    "import math\n",
    "sympy.init_printing()"
   ]
  },
  {
   "cell_type": "markdown",
   "metadata": {},
   "source": [
    "# What is the maximum gradient after appling a gaussian filter of sigma = s?\n",
    "\n",
    "\n",
    "Therefore we assume the image looks like this:\n",
    "```\n",
    "pixel: 1 2 3 4 5 6 7 8\n",
    "\n",
    "value: 1 1 1 1 0 0 0 0\n",
    "```\n",
    "\n",
    "Here the maximum edge is between the 4th and 5th pixel with a value of `1`. \n",
    "A gaussian filter reduces the edge, but how are sigma and the maximum edge linked together?\n",
    "We would like to have a function that maps a sigma `s` to the maximum possible edge `m(s)`."
   ]
  },
  {
   "cell_type": "code",
   "execution_count": null,
   "metadata": {
    "collapsed": false
   },
   "outputs": [],
   "source": [
    "def plot_max_diff(image_size, border, max_image_range=2, xlim=(0, 64)):    \n",
    "    half_size = image_size // 2 + border\n",
    "    t = Symbol('t')    # integration var\n",
    "    x = Symbol('x')    # integrate until x\n",
    "    s = Symbol('s')    # sigma var\n",
    "    b = image_size // 2 + border\n",
    "    gauss = 1/(s*sqrt(2*pi))*exp(-t**2/(2*s**2))\n",
    "    kernel = integrate(max_image_range*gauss, (t, b, x)) / integrate(gauss, (t, b, -b))\n",
    "    #return -kernel.subs([(x, 0.5), (b, -half_size)]), kernel.subs([(x, -0.5), (b, -half_size)])\n",
    "    diff = kernel.subs([(x, -0.5), (b, -half_size)]) - kernel.subs([(x, 0.5), (b, -half_size)])\n",
    "    #return diff.subs([(s, 1)]).evalf()\n",
    "    plot(diff, (s, 0, half_size),  ylim=(0, 0.5), xlim=xlim, yscale='linear', xscale='linear')"
   ]
  },
  {
   "cell_type": "code",
   "execution_count": null,
   "metadata": {
    "collapsed": false,
    "scrolled": true
   },
   "outputs": [],
   "source": [
    "plot_max_diff(16, 16, xlim=(0,16))"
   ]
  },
  {
   "cell_type": "code",
   "execution_count": null,
   "metadata": {
    "collapsed": false
   },
   "outputs": [],
   "source": [
    "plot_max_diff(32, 16, xlim=(0, 32))"
   ]
  },
  {
   "cell_type": "code",
   "execution_count": null,
   "metadata": {
    "collapsed": false
   },
   "outputs": [],
   "source": [
    "plot_max_diff(64, 32)"
   ]
  }
 ],
 "metadata": {
  "kernelspec": {
   "display_name": "Python 3",
   "language": "python",
   "name": "python3"
  },
  "language_info": {
   "codemirror_mode": {
    "name": "ipython",
    "version": 3
   },
   "file_extension": ".py",
   "mimetype": "text/x-python",
   "name": "python",
   "nbconvert_exporter": "python",
   "pygments_lexer": "ipython3",
   "version": "3.5.1"
  }
 },
 "nbformat": 4,
 "nbformat_minor": 0
}
