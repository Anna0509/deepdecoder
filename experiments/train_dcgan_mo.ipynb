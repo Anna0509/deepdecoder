{
 "cells": [
  {
   "cell_type": "code",
   "execution_count": null,
   "metadata": {
    "collapsed": false
   },
   "outputs": [],
   "source": [
    "%matplotlib inline\n",
    "\n",
    "\n",
    "from beras.data_utils import HDF5Tensor\n",
    "import matplotlib.pyplot as plt\n",
    "import numpy as np\n",
    "from deepdecoder.utils import masks, visualise_tiles, zip_visualise_tiles, np_binary_mask\n",
    "from deepdecoder.dcgan_train import generator, discriminator, dcmogan\n",
    "from beesgrid import MASK, CONFIG_ROTS, CONFIG_RADIUS, CONFIG_CENTER, TAG_SIZE\n",
    "from keras.optimizers import SGD, Adam, RMSprop\n",
    "import importlib\n",
    "import h5py\n",
    "import pylab\n",
    "import time\n",
    "\n",
    "pylab.rcParams['figure.figsize'] = (18, 18)"
   ]
  },
  {
   "cell_type": "code",
   "execution_count": null,
   "metadata": {
    "collapsed": false
   },
   "outputs": [],
   "source": [
    "gan, grid_loss_weight = dcmogan(generator, discriminator)"
   ]
  },
  {
   "cell_type": "code",
   "execution_count": null,
   "metadata": {
    "collapsed": false
   },
   "outputs": [],
   "source": [
    "start = time.time()\n",
    "gan.compile()\n",
    "print(\"Done Compiling in {}s\".format(time.time() - start))"
   ]
  },
  {
   "cell_type": "code",
   "execution_count": null,
   "metadata": {
    "collapsed": false
   },
   "outputs": [],
   "source": [
    "tags_fname = '/home/beesbook/beesbook-data/season_2015_tags/tags.hdf5'\n",
    "h5 = h5py.File(tags_fname)"
   ]
  },
  {
   "cell_type": "code",
   "execution_count": null,
   "metadata": {
    "collapsed": false
   },
   "outputs": [],
   "source": [
    "batch_size = 128\n",
    "nb_tags = h5['tags'].shape[0]\n",
    "nb_tags = (nb_tags // batch_size)*batch_size"
   ]
  },
  {
   "cell_type": "code",
   "execution_count": null,
   "metadata": {
    "collapsed": false
   },
   "outputs": [],
   "source": [
    "tags = HDF5Tensor(tags_fname, 'tags', 0, nb_tags)"
   ]
  },
  {
   "cell_type": "code",
   "execution_count": null,
   "metadata": {
    "collapsed": false
   },
   "outputs": [],
   "source": [
    "def grid_config(grid_bits, grid_rot_pos_radius):\n",
    "    angles = grid_rot_pos_radius[:, CONFIG_ROTS]\n",
    "    sin = np.sin(angles)\n",
    "    cos = np.cos(angles)\n",
    "    r = grid_rot_pos_radius[:, (CONFIG_RADIUS,)] / 25. - 1\n",
    "    xy = grid_rot_pos_radius[:, CONFIG_CENTER] / (TAG_SIZE/2) - 1\n",
    "    configs = np.concatenate([grid_bits, sin, cos, xy, r], axis=1)\n",
    "    return np.random.uniform(-1, 1, configs.shape)"
   ]
  },
  {
   "cell_type": "code",
   "execution_count": null,
   "metadata": {
    "collapsed": false
   },
   "outputs": [],
   "source": [
    "grid_loss_weight.set_value(0)"
   ]
  },
  {
   "cell_type": "code",
   "execution_count": null,
   "metadata": {
    "collapsed": false,
    "scrolled": true
   },
   "outputs": [],
   "source": [
    "epoch_size = 150 * batch_size\n",
    "begin_grid_loss = 300\n",
    "for i, (masks_idx, mask_bits, mask_grids) in enumerate(masks(epoch_size, scales=[1])):\n",
    "    print(i)\n",
    "    if i == begin_grid_loss:\n",
    "        gan.gan.save(\"models/mogan_begin_grid_loss/\")\n",
    "        grid_loss_weight.set_value(np.cast[np.float32](0.1))\n",
    "    if begin_grid_loss < i < begin_grid_loss + 49:\n",
    "        grid_loss_weight.set_value(np.cast[np.float32](grid_loss_weight.get_value() + 0.05))\n",
    "        \n",
    "    config = grid_config(mask_bits, mask_grids)\n",
    "    ti = i % nb_tags\n",
    "    gan.mulit_objectives.fit([tags[ti:ti+epoch_size], masks_idx, config], verbose=1, nb_epoch=1)\n",
    "    if i % 15 == 0 or (i < 16 and i % 1 == 0): \n",
    "        vis_idx, vis_bits, vis_grids = next(masks(batch_size-1, scales=[1]))\n",
    "        vis_config = grid_config(vis_bits, vis_grids)\n",
    "        zip_visualise_tiles(np_binary_mask(vis_idx),\n",
    "                            gan.gan.generate(conditionals=[vis_config]))\n",
    "    if i % 100 == 0 and i != 0:\n",
    "        gan.gan.save(\"models/mogan_begin_grid_loss_{}/\".format(i))\n",
    "\n"
   ]
  },
  {
   "cell_type": "code",
   "execution_count": null,
   "metadata": {
    "collapsed": true
   },
   "outputs": [],
   "source": []
  },
  {
   "cell_type": "code",
   "execution_count": null,
   "metadata": {
    "collapsed": true
   },
   "outputs": [],
   "source": []
  }
 ],
 "metadata": {
  "kernelspec": {
   "display_name": "Python 3",
   "language": "python",
   "name": "python3"
  },
  "language_info": {
   "codemirror_mode": {
    "name": "ipython",
    "version": 3
   },
   "file_extension": ".py",
   "mimetype": "text/x-python",
   "name": "python",
   "nbconvert_exporter": "python",
   "pygments_lexer": "ipython3",
   "version": "3.5.0"
  }
 },
 "nbformat": 4,
 "nbformat_minor": 0
}
