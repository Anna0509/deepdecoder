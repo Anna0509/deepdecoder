{
 "cells": [
  {
   "cell_type": "code",
   "execution_count": null,
   "metadata": {
    "collapsed": false
   },
   "outputs": [],
   "source": [
    "%matplotlib inline\n",
    "from deepdecoder.networks import dcgan_generator, dcgan_discriminator, gan_grid_idx, mogan_pyramid\n",
    "from deepdecoder.grid_curriculum import exam, grids_from_lecture\n",
    "from deepdecoder.data import normalize_generator, grids_lecture_generator, load_real_hdf5_tags\n",
    "from keras.optimizers import Adam\n",
    "from keras.objectives import binary_crossentropy, mse\n",
    "import numpy as np\n",
    "import matplotlib.pyplot as plt\n",
    "import pylab\n",
    "import time\n",
    "from itertools import combinations\n",
    "pylab.rcParams['figure.figsize'] = (16, 8)"
   ]
  },
  {
   "cell_type": "code",
   "execution_count": null,
   "metadata": {
    "collapsed": true
   },
   "outputs": [],
   "source": [
    "batch_size = 128\n",
    "num_batches_per_epoch = 100\n",
    "epoch_size = batch_size*num_batches_per_epoch\n",
    "\n",
    "generator_input_dim=50"
   ]
  },
  {
   "cell_type": "code",
   "execution_count": null,
   "metadata": {
    "collapsed": true
   },
   "outputs": [],
   "source": [
    "g = dcgan_generator(n=32, input_dim=generator_input_dim)\n",
    "d = dcgan_discriminator(n=32)"
   ]
  },
  {
   "cell_type": "code",
   "execution_count": null,
   "metadata": {
    "collapsed": false
   },
   "outputs": [],
   "source": [
    "g.load_weights(\"generator_pyramdi_loss.hdf5\")"
   ]
  },
  {
   "cell_type": "code",
   "execution_count": null,
   "metadata": {
    "collapsed": false
   },
   "outputs": [],
   "source": [
    "tags = load_real_hdf5_tags('/home/leon/data/tags.hdf5', batch_size,  num_batches_per_epoch)"
   ]
  },
  {
   "cell_type": "code",
   "execution_count": null,
   "metadata": {
    "collapsed": false
   },
   "outputs": [],
   "source": [
    "grids_lecture_generator(batch_size)"
   ]
  },
  {
   "cell_type": "code",
   "execution_count": null,
   "metadata": {
    "collapsed": false
   },
   "outputs": [],
   "source": [
    "mogan = mogan_pyramid(g, d, lambda: Adam(), nb_z=31, gan_objective=mse)"
   ]
  },
  {
   "cell_type": "code",
   "execution_count": null,
   "metadata": {
    "collapsed": false
   },
   "outputs": [],
   "source": [
    "mogan.mulit_objectives.compile_get_grads()"
   ]
  },
  {
   "cell_type": "code",
   "execution_count": null,
   "metadata": {
    "collapsed": false
   },
   "outputs": [],
   "source": [
    "mogan.mulit_objectives.grads_positions[0]"
   ]
  },
  {
   "cell_type": "code",
   "execution_count": null,
   "metadata": {
    "collapsed": false
   },
   "outputs": [],
   "source": [
    "tag_batch = tags[0:batch_size]\n",
    "params, grid_idx = next(grids_lecture_generator(batch_size))\n",
    "inputs = [tag_batch.astype(np.float32), grid_idx.astype(np.float32), params.astype(np.float32)]\n",
    "                                           \n",
    "grads = mogan.mulit_objectives.get_grads(inputs)"
   ]
  },
  {
   "cell_type": "code",
   "execution_count": null,
   "metadata": {
    "collapsed": false
   },
   "outputs": [],
   "source": [
    "num_bins = 50\n",
    "def plt_hist(x, label):\n",
    "    hist, bins = np.histogram(x, bins=num_bins)\n",
    "    width = 0.7 * (bins[1] - bins[0])\n",
    "    center = (bins[:-1] + bins[1:]) / 2\n",
    "    plt.bar(center, hist, align='center', width=width, label=label, alpha=0.5)\n",
    "\n",
    "for i, grad_dict in enumerate(grads):\n",
    "    fig = plt.figure()\n",
    "    print(mogan.gan.G.params[i])\n",
    "    print(i)\n",
    "    for plt_idx, (name, grad) in enumerate(grad_dict.items(), 1):\n",
    "        fig.add_subplot(3, 1, plt_idx)\n",
    "        plt.title(name)\n",
    "        plt_hist(grad, name)\n",
    "    plt.show()\n",
    "    print(\"multiplication\")\n",
    "    for plt_idx, ((name_a, a), (name_b, b)) in enumerate(combinations(grad_dict.items(), 2), 1):\n",
    "        fig.add_subplot(3, 1, plt_idx)\n",
    "        plt.title(name)\n",
    "        plt_hist(a*b, \"{}-{}\".format(name_a, name_b))\n",
    "    plt.show()"
   ]
  },
  {
   "cell_type": "code",
   "execution_count": null,
   "metadata": {
    "collapsed": true
   },
   "outputs": [],
   "source": []
  }
 ],
 "metadata": {
  "kernelspec": {
   "display_name": "Python 3",
   "language": "python",
   "name": "python3"
  },
  "language_info": {
   "codemirror_mode": {
    "name": "ipython",
    "version": 3
   },
   "file_extension": ".py",
   "mimetype": "text/x-python",
   "name": "python",
   "nbconvert_exporter": "python",
   "pygments_lexer": "ipython3",
   "version": "3.5.1"
  }
 },
 "nbformat": 4,
 "nbformat_minor": 0
}
