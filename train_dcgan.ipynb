
{
 "cells": [
  {
   "cell_type": "code",
   "execution_count": null,
   "metadata": {
    "collapsed": false
   },
   "outputs": [],
   "source": [
    "%matplotlib inline\n",
    "from deepdecoder.dcgan_train import *\n",
    "from beras.util import tile\n",
    "from beras.gan import GAN\n",
    "import matplotlib.pyplot as plt\n",
    "import numpy as np\n",
    "from deepdecoder.mask_loss import mask_loss, mask_loss_sobel, mask_loss_mse, mask_loss_adaptive_mse\n",
    "from deepdecoder.utils import masks, binary_mask\n",
    "from beesgrid import MASK\n",
    "from keras.optimizers import SGD, Adam, RMSprop\n",
    "\n",
    "import pylab\n",
    "pylab.rcParams['figure.figsize'] = (18, 18)"
   ]
  },
  {
   "cell_type": "code",
   "execution_count": null,
   "metadata": {
    "collapsed": false
   },
   "outputs": [],
   "source": [
    "gan = load_gan()\n",
    "# gan.load_weights(\"lapgan/models/dcgan_g64_d32/{}.hdf5\")"
   ]
  },
  {
   "cell_type": "code",
   "execution_count": null,
   "metadata": {
    "collapsed": false
   },
   "outputs": [],
   "source": [
    "X = loadRealData(\"/home/leon/repos/deeplocalizer_data/data/lapgan/lapgan.txt\")"
   ]
  },
  {
   "cell_type": "code",
   "execution_count": null,
   "metadata": {
    "collapsed": true
   },
   "outputs": [],
   "source": [
    "def visualise_tiles(images):\n",
    "    tiled_fakes = tile(images)\n",
    "    plt.imshow(tiled_fakes[0], cmap='gray')\n",
    "    plt.show()\n",
    "    \n",
    "def bw_mask(mask):\n",
    "    bw = 0.5*np.ones_like(mask)\n",
    "    bw[mask > MASK[\"IGNORE\"]] = 1.\n",
    "    bw[mask < MASK[\"BACKGROUND_RING\"]] = 0\n",
    "    return bw\n",
    "\n",
    "def zip_visualise_tiles(xs, ys):\n",
    "    assert len(xs) == len(ys)\n",
    "    tiles = []\n",
    "    for i in range(len(xs)):\n",
    "        tiles.append(xs[i])\n",
    "        tiles.append(ys[i])\n",
    "    visualise_tiles(tiles)\n",
    "    \n"
   ]
  },
  {
   "cell_type": "code",
   "execution_count": null,
   "metadata": {
    "collapsed": false
   },
   "outputs": [],
   "source": [
    "print(\"Compiling...\")\n",
    "start = time.time()\n",
    "optimizer = lambda: Adam(lr=0.0002, beta_1=0.5)\n",
    "gan.compile(optimizer(), optimizer(), gan_regulizer=GAN.L2Regularizer())\n",
    "print(\"Done Compiling in {0:.2f}s\".format(time.time() - start))"
   ]
  },
  {
   "cell_type": "code",
   "execution_count": null,
   "metadata": {
    "collapsed": false,
    "scrolled": false
   },
   "outputs": [],
   "source": [
    "try:\n",
    "    visualise_tiles(gan.generate())\n",
    "    nb_epoches = 250\n",
    "    for i in range(nb_epoches):\n",
    "        print(i)\n",
    "        gan.fit(X, batch_size=128, verbose=1, nb_epoch=1)\n",
    "        if i % 5 == 0 or i < 15: \n",
    "            visualise_tiles(gan.generate())\n",
    "finally:\n",
    "    output_dir = \"models/dcgan_g64_d32\"\n",
    "    os.makedirs(output_dir, exist_ok=True)\n",
    "    print(\"Saving model to {}\".format(os.path.realpath(output_dir)))\n",
    "    output_dir = output_dir + \"/{}.hdf5\"\n",
    "    gan.save_weights(output_dir, overwrite=True)\n",
    "\n"
   ]
  },
  {
   "cell_type": "code",
   "execution_count": null,
   "metadata": {
    "collapsed": false,
    "scrolled": true
   },
   "outputs": [],
   "source": [
    "import numpy as np\n",
    "arr = np.arange(len(X))\n",
    "np.random.shuffle(arr)\n",
    "visualise_tiles(X[arr[:128]])"
   ]
  },
  {
   "cell_type": "code",
   "execution_count": null,
   "metadata": {
    "collapsed": false,
    "scrolled": true
   },
   "outputs": [],
   "source": [
    "shp = gan.z_shape[1:]\n",
    "z_point = lambda: np.random.uniform(-1, 1, shp)\n",
    "for i in range(2):\n",
    "    out = gan.interpolate(z_point(), z_point())\n",
    "    visualise_tiles(out)"
   ]
  },
  {
   "cell_type": "code",
   "execution_count": null,
   "metadata": {
    "collapsed": false
   },
   "outputs": [],
   "source": [
    "print(\"Compiling...\")\n",
    "start = time.time()\n",
    "loss_fn = lambda t, p: mask_loss_adaptive_mse(t, p).loss\n",
    "gan.compile_optimize_image(Adam(), loss_fn)\n",
    "print(\"Done Compiling in {0:.2f}s\".format(time.time() - start))"
   ]
  },
  {
   "cell_type": "code",
   "execution_count": null,
   "metadata": {
    "collapsed": false
   },
   "outputs": [],
   "source": [
    "masks_idx, mask_bits, mask_grids = next(masks(gan.batch_size-1))\n",
    "opt_z = None"
   ]
  },
  {
   "cell_type": "code",
   "execution_count": null,
   "metadata": {
    "collapsed": false,
    "scrolled": true
   },
   "outputs": [],
   "source": [
    "if 'opt_z' not in globals():\n",
    "    opt_z = np.random.uniform(-1, 1, gan.z_shape)\n",
    "duration = 0\n",
    "for i in range(20):\n",
    "    zip_visualise_tiles(bw_mask(masks_idx), gan.generate(opt_z))\n",
    "    iterations = 256\n",
    "    start = time.time()\n",
    "    opt_images, opt_z = gan.optimize_image(masks_idx, iterations, z_start=opt_z, verbose=1)\n",
    "    duration += time.time() - start\n",
    "    if i % 5:\n",
    "        zip_visualise_tiles(bw_mask(masks_idx), opt_images)\n",
    "        jjjjj\n",
    "zip_visualise_tiles(bw_mask(masks_idx), opt_images)\n",
    "\n",
    "print(\"Done Optimizing in {0:.2f}s\".format(duration))"
   ]
  },
  {
   "cell_type": "code",
   "execution_count": null,
   "metadata": {
    "collapsed": false,
    "scrolled": true
   },
   "outputs": [],
   "source": [
    "z = np.zeros(gan.z_shape, dtype=np.float32)\n",
    "z[0] = gan.random_z_point()\n",
    "for i in range(1, len(z), 2):\n",
    "    z[i] = gan.random_z_point()\n",
    "    z[i+1] = np.max(z[0] + 0.5 * np.ones(z[0].shape)\n",
    "    z[i] = np.clip(z[i], -1, 1)\n",
    "visualise_tiles(gan.generate(z))"
   ]
  },
  {
   "cell_type": "code",
   "execution_count": null,
   "metadata": {
    "collapsed": false,
    "scrolled": true
   },
   "outputs": [],
   "source": [
    "for _ in range(10):\n",
    "    visualise_tiles(gan.neighborhood(opt_z[5], std=0.30))"
   ]
  },
  {
   "cell_type": "code",
   "execution_count": null,
   "metadata": {
    "collapsed": false
   },
   "outputs": [],
   "source": [
    "z_point = opt_z[0]\n",
    "for i in range(50):\n",
    "    print(i)\n",
    "    z_min = np.copy(z_point)\n",
    "    z_max = np.copy(z_point)\n",
    "    z_min[i] = -1\n",
    "    z_max[i] = 1\n",
    "    visualise_tiles(gan.interpolate(z_min, z_max))"
   ]
  },
  {
   "cell_type": "code",
   "execution_count": null,
   "metadata": {
    "collapsed": false
   },
   "outputs": [],
   "source": [
    "print(len(masks_idx))\n",
    "print(len(opt_images))"
   ]
  },
  {
   "cell_type": "code",
   "execution_count": null,
   "metadata": {
    "collapsed": true
   },
   "outputs": [],
   "source": []
  }
 ],
 "metadata": {
  "kernelspec": {
   "display_name": "Python 3",
   "language": "python",
   "name": "python3"
  },
  "language_info": {
   "codemirror_mode": {
    "name": "ipython",
    "version": 3
   },
   "file_extension": ".py",
   "mimetype": "text/x-python",
   "name": "python",
   "nbconvert_exporter": "python",
   "pygments_lexer": "ipython3",
   "version": "3.5.0"
  }
 },
 "nbformat": 4,
 "nbformat_minor": 0
}
