{
 "cells": [
  {
   "cell_type": "code",
   "execution_count": null,
   "metadata": {
    "collapsed": false
   },
   "outputs": [],
   "source": [
    "%matplotlib inline\n",
    "from deepdecoder.evaluate_mask_losses import evaluate_loss, compile_loss_fn\n",
    "from deepdecoder.mask_loss import mask_loss_mse, mask_loss_sobel, mask_loss_adaptive_mse\n",
    "from deepdecoder.utils import visualise_tiles, zip_visualise_tiles\n",
    "from beesgrid import gt_grids, draw_grids, BlackWhiteArtist, CONFIG_LABELS\n",
    "import numpy as np\n",
    "import matplotlib.pyplot as plt\n",
    "import pylab\n",
    "pylab.rcParams['figure.figsize'] = (15, 10)"
   ]
  },
  {
   "cell_type": "code",
   "execution_count": null,
   "metadata": {
    "collapsed": false
   },
   "outputs": [],
   "source": [
    "with open(\"/home/leon/repos/deeplocalizer_data/gt_hist_eq/tdats.txt\") as f:\n",
    "    gt_hist_eq = [l.rstrip('\\n') for l in f.readlines()]\n",
    "with open(\"/home/leon/repos/deeplocalizer_data/gt_hist_eq_thres/tdats.txt\") as f:\n",
    "    gt_hist_eq_thres = [l.rstrip('\\n') for l in f.readlines()]\n",
    "with open(\"/home/leon/repos/deeplocalizer_data/gt_hist_eq_thres_binary/tdats.txt\") as f:\n",
    "    gt_binary = [l.rstrip('\\n') for l in f.readlines()]"
   ]
  },
  {
   "cell_type": "code",
   "execution_count": null,
   "metadata": {
    "collapsed": false,
    "scrolled": true
   },
   "outputs": [],
   "source": [
    "evaluate_loss(gt_hist_eq, \"mask_loss_mse\", mask_loss_mse, visualise=6)"
   ]
  },
  {
   "cell_type": "code",
   "execution_count": null,
   "metadata": {
    "collapsed": false,
    "scrolled": true
   },
   "outputs": [],
   "source": [
    "evaluate_loss(gt_hist_eq, \"mask_loss_sobel\", mask_loss_sobel, visualise=6, diff_type='mse')"
   ]
  },
  {
   "cell_type": "code",
   "execution_count": null,
   "metadata": {
    "collapsed": false,
    "scrolled": true
   },
   "outputs": [],
   "source": [
    "evaluate_loss(gt_hist_eq, \"mask_loss_sobel\", mask_loss_sobel, visualise=6, diff_type='correlation')"
   ]
  },
  {
   "cell_type": "code",
   "execution_count": null,
   "metadata": {
    "collapsed": false,
    "scrolled": true
   },
   "outputs": [],
   "source": [
    "evaluate_loss(gt_hist_eq_thres, \"mask_loss_sobel\", mask_loss_sobel, visualise=6, diff_type='correlation')"
   ]
  },
  {
   "cell_type": "code",
   "execution_count": null,
   "metadata": {
    "collapsed": false,
    "scrolled": true
   },
   "outputs": [],
   "source": [
    "evaluate_loss(gt_hist_eq_thres, \"mask_loss_mse\", mask_loss_mse, visualise=6)"
   ]
  },
  {
   "cell_type": "code",
   "execution_count": null,
   "metadata": {
    "collapsed": false,
    "scrolled": true
   },
   "outputs": [],
   "source": [
    "evaluate_loss(gt_binary, \"mask_loss_mse\", mask_loss_mse, visualise=6)"
   ]
  },
  {
   "cell_type": "code",
   "execution_count": null,
   "metadata": {
    "collapsed": false,
    "scrolled": true
   },
   "outputs": [],
   "source": [
    "evaluate_loss(gt_hist_eq_thres, \"mask_loss_adaptive_mse\", mask_loss_adaptive_mse, visualise=6)"
   ]
  },
  {
   "cell_type": "code",
   "execution_count": null,
   "metadata": {
    "collapsed": false
   },
   "outputs": [],
   "source": [
    "batch_size = 512\n",
    "gt, ids, configs = next(gt_grids(gt_files, batch_size))\n",
    "z = CONFIG_LABELS.index(\"z_rotation\")\n",
    "y = CONFIG_LABELS.index(\"y_rotation\")\n",
    "x = CONFIG_LABELS.index(\"x_rotation\")\n",
    "\n",
    "z_rot = configs[:, z]\n",
    "print((z_rot.min(), z_rot.max()))\n",
    "masks, = draw_grids(ids, configs, artist=BlackWhiteArtist())\n",
    "masks = masks / 255.\n",
    "plt.figure(figsize=(30, 30))\n",
    "zip_visualise_tiles(gt, masks)"
   ]
  },
  {
   "cell_type": "code",
   "execution_count": null,
   "metadata": {
    "collapsed": false
   },
   "outputs": [],
   "source": [
    "x = np.arange(100).reshape(10, 10).T\n",
    "print(np.unwrap(x, axis=0))"
   ]
  },
  {
   "cell_type": "code",
   "execution_count": null,
   "metadata": {
    "collapsed": false
   },
   "outputs": [],
   "source": []
  },
  {
   "cell_type": "code",
   "execution_count": null,
   "metadata": {
    "collapsed": true
   },
   "outputs": [],
   "source": []
  }
 ],
 "metadata": {
  "kernelspec": {
   "display_name": "Python 3",
   "language": "python",
   "name": "python3"
  },
  "language_info": {
   "codemirror_mode": {
    "name": "ipython",
    "version": 3
   },
   "file_extension": ".py",
   "mimetype": "text/x-python",
   "name": "python",
   "nbconvert_exporter": "python",
   "pygments_lexer": "ipython3",
   "version": "3.5.0"
  }
 },
 "nbformat": 4,
 "nbformat_minor": 0
}
