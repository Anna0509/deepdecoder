{
 "cells": [
  {
   "cell_type": "code",
   "execution_count": 1,
   "metadata": {
    "collapsed": true
   },
   "outputs": [],
   "source": [
    "from lapgan import *"
   ]
  },
  {
   "cell_type": "code",
   "execution_count": 2,
   "metadata": {
    "collapsed": false,
    "scrolled": true
   },
   "outputs": [
    {
     "name": "stdout",
     "output_type": "stream",
     "text": [
      "(16384, 1, 64, 64)\n",
      "(8246, 1, 64, 64)\n",
      "Compiling...\n",
      "['train', 'generate', 'debug']\n",
      "Done Compiling\n"
     ]
    }
   ],
   "source": [
    "lapgan = MaskLAPGAN()\n",
    "X = tags_from_hdf5(\"/home/leon/uni/vision_swp/deeplocalizer_data/gan_data/gan/gan_0.hdf5\")\n",
    "X /= 255.\n",
    "print(\"Compiling...\")\n",
    "lapgan.compile(lambda: SGD(lr=0.02), functions=\"all\")\n",
    "print(\"Done Compiling\")"
   ]
  },
  {
   "cell_type": "code",
   "execution_count": null,
   "metadata": {
    "collapsed": false
   },
   "outputs": [],
   "source": [
    "for masks_idx in itertools.islice(masks(len(X)), 1):\n",
    "    lapgan.fit(X, masks_idx, verbose=1, nb_epoch=1)"
   ]
  },
  {
   "cell_type": "code",
   "execution_count": 4,
   "metadata": {
    "collapsed": false
   },
   "outputs": [],
   "source": [
    "import os\n",
    "output_dir = \"data/train/\"\n",
    "os.makedirs(output_dir, exist_ok=True)\n",
    "lapgan.debug_and_draw(X[:64], next(masks(1)), output_dir, n=64, show_notebook=True)"
   ]
  },
  {
   "cell_type": "code",
   "execution_count": null,
   "metadata": {
    "collapsed": true
   },
   "outputs": [],
   "source": []
  },
  {
   "cell_type": "code",
   "execution_count": null,
   "metadata": {
    "collapsed": true
   },
   "outputs": [],
   "source": []
  }
 ],
 "metadata": {
  "kernelspec": {
   "display_name": "Python 3",
   "language": "python",
   "name": "python3"
  },
  "language_info": {
   "codemirror_mode": {
    "name": "ipython",
    "version": 3
   },
   "file_extension": ".py",
   "mimetype": "text/x-python",
   "name": "python",
   "nbconvert_exporter": "python",
   "pygments_lexer": "ipython3",
   "version": "3.5.0"
  }
 },
 "nbformat": 4,
 "nbformat_minor": 0
}
